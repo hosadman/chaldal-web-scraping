{
 "cells": [
  {
   "cell_type": "code",
   "execution_count": 1,
   "metadata": {},
   "outputs": [],
   "source": [
    "import requests\n",
    "from bs4 import BeautifulSoup as bs\n",
    "import pandas as pd"
   ]
  },
  {
   "cell_type": "markdown",
   "metadata": {},
   "source": [
    "# Dataframe for chips"
   ]
  },
  {
   "cell_type": "code",
   "execution_count": 2,
   "metadata": {},
   "outputs": [],
   "source": [
    "baseurl = 'https://chaldal.com/chips-pretzels'\n",
    "r = requests.get(baseurl)\n",
    "soup = bs(r.content, 'lxml')\n",
    "products = soup.find_all('div', class_='product')"
   ]
  },
  {
   "cell_type": "code",
   "execution_count": 3,
   "metadata": {},
   "outputs": [],
   "source": [
    "product = []\n",
    "amount = []\n",
    "price = []\n",
    "\n",
    "for item in products:\n",
    "    for i in item.find_all('div', class_='imageWrapper'):\n",
    "        for j in i.find_all('div', class_='name'):\n",
    "            product.append(j.text)\n",
    "            \n",
    "for item in products:\n",
    "    for i in item.find_all('div', class_='imageWrapper'):\n",
    "        for j in i.find_all('div', class_='subText'):\n",
    "            amount.append(j.text)\n",
    "            \n",
    "for item in products:\n",
    "    for i in item.find_all('div', class_='imageWrapper'):\n",
    "        for j in i.find_all('div', class_='price'):\n",
    "            price.append(j.text)           "
   ]
  },
  {
   "cell_type": "code",
   "execution_count": 4,
   "metadata": {},
   "outputs": [
    {
     "data": {
      "text/html": [
       "<div>\n",
       "<style scoped>\n",
       "    .dataframe tbody tr th:only-of-type {\n",
       "        vertical-align: middle;\n",
       "    }\n",
       "\n",
       "    .dataframe tbody tr th {\n",
       "        vertical-align: top;\n",
       "    }\n",
       "\n",
       "    .dataframe thead th {\n",
       "        text-align: right;\n",
       "    }\n",
       "</style>\n",
       "<table border=\"1\" class=\"dataframe\">\n",
       "  <thead>\n",
       "    <tr style=\"text-align: right;\">\n",
       "      <th></th>\n",
       "      <th>Product</th>\n",
       "      <th>Quantity</th>\n",
       "      <th>Price</th>\n",
       "    </tr>\n",
       "  </thead>\n",
       "  <tbody>\n",
       "    <tr>\n",
       "      <th>0</th>\n",
       "      <td>Bombay Sweets Mr. Twist</td>\n",
       "      <td>22 gm</td>\n",
       "      <td>৳ 15</td>\n",
       "    </tr>\n",
       "    <tr>\n",
       "      <th>1</th>\n",
       "      <td>Bombay Sweets Potato Crackers</td>\n",
       "      <td>22 gm</td>\n",
       "      <td>৳ 10</td>\n",
       "    </tr>\n",
       "    <tr>\n",
       "      <th>2</th>\n",
       "      <td>Bombay Sweets Ring Chips</td>\n",
       "      <td>22 gm</td>\n",
       "      <td>৳ 10</td>\n",
       "    </tr>\n",
       "    <tr>\n",
       "      <th>3</th>\n",
       "      <td>Bombay Sweets Cheese Ball Cheezee Corn Snacks</td>\n",
       "      <td>20 gm</td>\n",
       "      <td>৳ 10</td>\n",
       "    </tr>\n",
       "    <tr>\n",
       "      <th>4</th>\n",
       "      <td>Sun Chips Salt &amp; Pepper</td>\n",
       "      <td>22 gm</td>\n",
       "      <td>৳ 15</td>\n",
       "    </tr>\n",
       "  </tbody>\n",
       "</table>\n",
       "</div>"
      ],
      "text/plain": [
       "                                         Product Quantity Price\n",
       "0                        Bombay Sweets Mr. Twist    22 gm  ৳ 15\n",
       "1                  Bombay Sweets Potato Crackers    22 gm  ৳ 10\n",
       "2                       Bombay Sweets Ring Chips    22 gm  ৳ 10\n",
       "3  Bombay Sweets Cheese Ball Cheezee Corn Snacks    20 gm  ৳ 10\n",
       "4                        Sun Chips Salt & Pepper    22 gm  ৳ 15"
      ]
     },
     "execution_count": 4,
     "metadata": {},
     "output_type": "execute_result"
    }
   ],
   "source": [
    "productlist = {'Product':product, 'Quantity':amount, 'Price':price}\n",
    "df = pd.DataFrame(productlist)\n",
    "df.head()"
   ]
  },
  {
   "cell_type": "code",
   "execution_count": 5,
   "metadata": {},
   "outputs": [],
   "source": [
    "df.to_csv(r'C:\\Users\\Arnob\\Desktop\\DataScience\\chaldal-web-scraping\\chaldal-chips.csv', index=False)"
   ]
  },
  {
   "cell_type": "markdown",
   "metadata": {},
   "source": [
    "# Dataframe for noodles"
   ]
  },
  {
   "cell_type": "code",
   "execution_count": 6,
   "metadata": {},
   "outputs": [],
   "source": [
    "baseurl2 = 'https://chaldal.com/noodles'\n",
    "r2 = requests.get(baseurl2)\n",
    "soup2 = bs(r2.content, 'lxml')\n",
    "products2 = soup2.find_all('div', class_='product')"
   ]
  },
  {
   "cell_type": "code",
   "execution_count": 7,
   "metadata": {},
   "outputs": [],
   "source": [
    "product2 = []\n",
    "amount2 = []\n",
    "price2 = []\n",
    "\n",
    "for item in products2:\n",
    "    for i in item.find_all('div', class_='imageWrapper'):\n",
    "        for j in i.find_all('div', class_='name'):\n",
    "            product2.append(j.text)\n",
    "            \n",
    "for item in products2:\n",
    "    for i in item.find_all('div', class_='imageWrapper'):\n",
    "        for j in i.find_all('div', class_='subText'):\n",
    "            amount2.append(j.text)\n",
    "            \n",
    "for item in products2:\n",
    "    for i in item.find_all('div', class_='imageWrapper'):\n",
    "        for j in i.find_all('div', class_='price'):\n",
    "            price2.append(j.text)           "
   ]
  },
  {
   "cell_type": "code",
   "execution_count": 8,
   "metadata": {},
   "outputs": [
    {
     "data": {
      "text/html": [
       "<div>\n",
       "<style scoped>\n",
       "    .dataframe tbody tr th:only-of-type {\n",
       "        vertical-align: middle;\n",
       "    }\n",
       "\n",
       "    .dataframe tbody tr th {\n",
       "        vertical-align: top;\n",
       "    }\n",
       "\n",
       "    .dataframe thead th {\n",
       "        text-align: right;\n",
       "    }\n",
       "</style>\n",
       "<table border=\"1\" class=\"dataframe\">\n",
       "  <thead>\n",
       "    <tr style=\"text-align: right;\">\n",
       "      <th></th>\n",
       "      <th>Product</th>\n",
       "      <th>Quantity</th>\n",
       "      <th>Price</th>\n",
       "    </tr>\n",
       "  </thead>\n",
       "  <tbody>\n",
       "    <tr>\n",
       "      <th>0</th>\n",
       "      <td>Cocola Egg Noodles</td>\n",
       "      <td>180 gm</td>\n",
       "      <td>৳ 18</td>\n",
       "    </tr>\n",
       "    <tr>\n",
       "      <th>1</th>\n",
       "      <td>Nestlé MAGGI 2-Minute Noodles Masala 8 Pack</td>\n",
       "      <td>496 gm</td>\n",
       "      <td>৳ 135</td>\n",
       "    </tr>\n",
       "    <tr>\n",
       "      <th>2</th>\n",
       "      <td>Nestlé MAGGI Masala Blast Noodles 8 Packs</td>\n",
       "      <td>504 gm</td>\n",
       "      <td>৳ 140</td>\n",
       "    </tr>\n",
       "    <tr>\n",
       "      <th>3</th>\n",
       "      <td>Cocola Chicken Masala Noodles</td>\n",
       "      <td>180 gm</td>\n",
       "      <td>৳ 20</td>\n",
       "    </tr>\n",
       "    <tr>\n",
       "      <th>4</th>\n",
       "      <td>Cocola Hot &amp; Spicy Cup Noodles</td>\n",
       "      <td>40 gm</td>\n",
       "      <td>৳ 25</td>\n",
       "    </tr>\n",
       "  </tbody>\n",
       "</table>\n",
       "</div>"
      ],
      "text/plain": [
       "                                       Product Quantity  Price\n",
       "0                           Cocola Egg Noodles   180 gm   ৳ 18\n",
       "1  Nestlé MAGGI 2-Minute Noodles Masala 8 Pack   496 gm  ৳ 135\n",
       "2    Nestlé MAGGI Masala Blast Noodles 8 Packs   504 gm  ৳ 140\n",
       "3                Cocola Chicken Masala Noodles   180 gm   ৳ 20\n",
       "4               Cocola Hot & Spicy Cup Noodles    40 gm   ৳ 25"
      ]
     },
     "execution_count": 8,
     "metadata": {},
     "output_type": "execute_result"
    }
   ],
   "source": [
    "productlist2 = {'Product':product2, 'Quantity':amount2, 'Price':price2}\n",
    "df2 = pd.DataFrame(productlist2)\n",
    "df2.head()"
   ]
  },
  {
   "cell_type": "code",
   "execution_count": 9,
   "metadata": {},
   "outputs": [],
   "source": [
    "df2.to_csv(r'C:\\Users\\Arnob\\Desktop\\DataScience\\chaldal-web-scraping\\chaldal-noodles.csv', index=False)"
   ]
  },
  {
   "cell_type": "markdown",
   "metadata": {},
   "source": [
    "# Dataframe for pasta"
   ]
  },
  {
   "cell_type": "code",
   "execution_count": 10,
   "metadata": {},
   "outputs": [],
   "source": [
    "baseurl3 = 'https://chaldal.com/pasta-macaroni'\n",
    "r3 = requests.get(baseurl3)\n",
    "soup3 = bs(r3.content, 'lxml')\n",
    "products3 = soup3.find_all('div', class_='product')"
   ]
  },
  {
   "cell_type": "code",
   "execution_count": 11,
   "metadata": {},
   "outputs": [],
   "source": [
    "product3 = []\n",
    "amount3 = []\n",
    "price3 = []\n",
    "\n",
    "for item in products3:\n",
    "    for i in item.find_all('div', class_='imageWrapper'):\n",
    "        for j in i.find_all('div', class_='name'):\n",
    "            product3.append(j.text)\n",
    "            \n",
    "for item in products3:\n",
    "    for i in item.find_all('div', class_='imageWrapper'):\n",
    "        for j in i.find_all('div', class_='subText'):\n",
    "            amount3.append(j.text)\n",
    "            \n",
    "for item in products3:\n",
    "    for i in item.find_all('div', class_='imageWrapper'):\n",
    "        for j in i.find_all('div', class_='price'):\n",
    "            price3.append(j.text)           "
   ]
  },
  {
   "cell_type": "code",
   "execution_count": 12,
   "metadata": {},
   "outputs": [
    {
     "data": {
      "text/html": [
       "<div>\n",
       "<style scoped>\n",
       "    .dataframe tbody tr th:only-of-type {\n",
       "        vertical-align: middle;\n",
       "    }\n",
       "\n",
       "    .dataframe tbody tr th {\n",
       "        vertical-align: top;\n",
       "    }\n",
       "\n",
       "    .dataframe thead th {\n",
       "        text-align: right;\n",
       "    }\n",
       "</style>\n",
       "<table border=\"1\" class=\"dataframe\">\n",
       "  <thead>\n",
       "    <tr style=\"text-align: right;\">\n",
       "      <th></th>\n",
       "      <th>Product</th>\n",
       "      <th>Quantity</th>\n",
       "      <th>Price</th>\n",
       "    </tr>\n",
       "  </thead>\n",
       "  <tbody>\n",
       "    <tr>\n",
       "      <th>0</th>\n",
       "      <td>Kolson Macaroni Shell</td>\n",
       "      <td>400 gm</td>\n",
       "      <td>৳ 65</td>\n",
       "    </tr>\n",
       "    <tr>\n",
       "      <th>1</th>\n",
       "      <td>Bashundhara Tube Pasta</td>\n",
       "      <td>500 gm</td>\n",
       "      <td>৳ 80</td>\n",
       "    </tr>\n",
       "    <tr>\n",
       "      <th>2</th>\n",
       "      <td>Pasta Hat Macaroni (Rigate)</td>\n",
       "      <td>500 gm</td>\n",
       "      <td>৳ 130</td>\n",
       "    </tr>\n",
       "    <tr>\n",
       "      <th>3</th>\n",
       "      <td>Kolson Macaroni Bamboo</td>\n",
       "      <td>400 gm</td>\n",
       "      <td>৳ 65</td>\n",
       "    </tr>\n",
       "    <tr>\n",
       "      <th>4</th>\n",
       "      <td>Pasta Hat Spaghetti</td>\n",
       "      <td>500 gm</td>\n",
       "      <td>৳ 130</td>\n",
       "    </tr>\n",
       "  </tbody>\n",
       "</table>\n",
       "</div>"
      ],
      "text/plain": [
       "                       Product Quantity  Price\n",
       "0        Kolson Macaroni Shell   400 gm   ৳ 65\n",
       "1       Bashundhara Tube Pasta   500 gm   ৳ 80\n",
       "2  Pasta Hat Macaroni (Rigate)   500 gm  ৳ 130\n",
       "3       Kolson Macaroni Bamboo   400 gm   ৳ 65\n",
       "4          Pasta Hat Spaghetti   500 gm  ৳ 130"
      ]
     },
     "execution_count": 12,
     "metadata": {},
     "output_type": "execute_result"
    }
   ],
   "source": [
    "productlist3 = {'Product':product3, 'Quantity':amount3, 'Price':price3}\n",
    "df3 = pd.DataFrame(productlist3)\n",
    "df3.head()"
   ]
  },
  {
   "cell_type": "code",
   "execution_count": 13,
   "metadata": {},
   "outputs": [],
   "source": [
    "df3.to_csv(r'C:\\Users\\Arnob\\Desktop\\DataScience\\chaldal-web-scraping\\chaldal-pasta.csv', index=False)"
   ]
  },
  {
   "cell_type": "markdown",
   "metadata": {},
   "source": [
    "# Dataframe for soup"
   ]
  },
  {
   "cell_type": "code",
   "execution_count": 14,
   "metadata": {},
   "outputs": [],
   "source": [
    "baseurl4 = 'https://chaldal.com/soups'\n",
    "r4 = requests.get(baseurl4)\n",
    "soup4 = bs(r4.content, 'lxml')\n",
    "products4 = soup4.find_all('div', class_='product')"
   ]
  },
  {
   "cell_type": "code",
   "execution_count": 15,
   "metadata": {},
   "outputs": [],
   "source": [
    "product4 = []\n",
    "amount4 = []\n",
    "price4 = []\n",
    "\n",
    "for item in products4:\n",
    "    for i in item.find_all('div', class_='imageWrapper'):\n",
    "        for j in i.find_all('div', class_='name'):\n",
    "            product4.append(j.text)\n",
    "            \n",
    "for item in products4:\n",
    "    for i in item.find_all('div', class_='imageWrapper'):\n",
    "        for j in i.find_all('div', class_='subText'):\n",
    "            amount4.append(j.text)\n",
    "            \n",
    "for item in products4:\n",
    "    for i in item.find_all('div', class_='imageWrapper'):\n",
    "        for j in i.find_all('div', class_='price'):\n",
    "            price4.append(j.text)           "
   ]
  },
  {
   "cell_type": "code",
   "execution_count": 16,
   "metadata": {},
   "outputs": [
    {
     "data": {
      "text/html": [
       "<div>\n",
       "<style scoped>\n",
       "    .dataframe tbody tr th:only-of-type {\n",
       "        vertical-align: middle;\n",
       "    }\n",
       "\n",
       "    .dataframe tbody tr th {\n",
       "        vertical-align: top;\n",
       "    }\n",
       "\n",
       "    .dataframe thead th {\n",
       "        text-align: right;\n",
       "    }\n",
       "</style>\n",
       "<table border=\"1\" class=\"dataframe\">\n",
       "  <thead>\n",
       "    <tr style=\"text-align: right;\">\n",
       "      <th></th>\n",
       "      <th>Product</th>\n",
       "      <th>Quantity</th>\n",
       "      <th>Price</th>\n",
       "    </tr>\n",
       "  </thead>\n",
       "  <tbody>\n",
       "    <tr>\n",
       "      <th>0</th>\n",
       "      <td>Knorr Thai Soup</td>\n",
       "      <td>28 gm</td>\n",
       "      <td>৳ 40</td>\n",
       "    </tr>\n",
       "    <tr>\n",
       "      <th>1</th>\n",
       "      <td>Knorr Soup Hot and Sour Chicken</td>\n",
       "      <td>31 gm</td>\n",
       "      <td>৳ 40</td>\n",
       "    </tr>\n",
       "    <tr>\n",
       "      <th>2</th>\n",
       "      <td>Knorr Chicken Cube</td>\n",
       "      <td>20 gm</td>\n",
       "      <td>৳ 30</td>\n",
       "    </tr>\n",
       "    <tr>\n",
       "      <th>3</th>\n",
       "      <td>Knorr Soup Chicken Corn</td>\n",
       "      <td>24 gm</td>\n",
       "      <td>৳ 40</td>\n",
       "    </tr>\n",
       "    <tr>\n",
       "      <th>4</th>\n",
       "      <td>Nestlé MAGGI Healthy Soup Corn With Chicken Fl...</td>\n",
       "      <td>4 pcs</td>\n",
       "      <td>৳ 160</td>\n",
       "    </tr>\n",
       "  </tbody>\n",
       "</table>\n",
       "</div>"
      ],
      "text/plain": [
       "                                             Product Quantity  Price\n",
       "0                                    Knorr Thai Soup    28 gm   ৳ 40\n",
       "1                    Knorr Soup Hot and Sour Chicken    31 gm   ৳ 40\n",
       "2                                 Knorr Chicken Cube    20 gm   ৳ 30\n",
       "3                            Knorr Soup Chicken Corn    24 gm   ৳ 40\n",
       "4  Nestlé MAGGI Healthy Soup Corn With Chicken Fl...    4 pcs  ৳ 160"
      ]
     },
     "execution_count": 16,
     "metadata": {},
     "output_type": "execute_result"
    }
   ],
   "source": [
    "productlist4 = {'Product':product4, 'Quantity':amount4, 'Price':price4}\n",
    "df4 = pd.DataFrame(productlist4)\n",
    "df4.head()"
   ]
  },
  {
   "cell_type": "code",
   "execution_count": 17,
   "metadata": {},
   "outputs": [],
   "source": [
    "df4.to_csv(r'C:\\Users\\Arnob\\Desktop\\DataScience\\chaldal-web-scraping\\chaldal-soup.csv', index=False)"
   ]
  },
  {
   "cell_type": "markdown",
   "metadata": {},
   "source": [
    "# Dataframe for candy"
   ]
  },
  {
   "cell_type": "code",
   "execution_count": 19,
   "metadata": {},
   "outputs": [],
   "source": [
    "baseurl5 = 'https://chaldal.com/candy-chocolate'\n",
    "r5 = requests.get(baseurl5)\n",
    "soup5 = bs(r5.content, 'lxml')\n",
    "products5 = soup5.find_all('div', class_='product')"
   ]
  },
  {
   "cell_type": "code",
   "execution_count": 20,
   "metadata": {},
   "outputs": [],
   "source": [
    "product5 = []\n",
    "amount5 = []\n",
    "price5 = []\n",
    "\n",
    "for item in products5:\n",
    "    for i in item.find_all('div', class_='imageWrapper'):\n",
    "        for j in i.find_all('div', class_='name'):\n",
    "            product5.append(j.text)\n",
    "            \n",
    "for item in products5:\n",
    "    for i in item.find_all('div', class_='imageWrapper'):\n",
    "        for j in i.find_all('div', class_='subText'):\n",
    "            amount5.append(j.text)\n",
    "            \n",
    "for item in products5:\n",
    "    for i in item.find_all('div', class_='imageWrapper'):\n",
    "        for j in i.find_all('div', class_='price'):\n",
    "            price5.append(j.text)           "
   ]
  },
  {
   "cell_type": "code",
   "execution_count": 21,
   "metadata": {},
   "outputs": [
    {
     "data": {
      "text/html": [
       "<div>\n",
       "<style scoped>\n",
       "    .dataframe tbody tr th:only-of-type {\n",
       "        vertical-align: middle;\n",
       "    }\n",
       "\n",
       "    .dataframe tbody tr th {\n",
       "        vertical-align: top;\n",
       "    }\n",
       "\n",
       "    .dataframe thead th {\n",
       "        text-align: right;\n",
       "    }\n",
       "</style>\n",
       "<table border=\"1\" class=\"dataframe\">\n",
       "  <thead>\n",
       "    <tr style=\"text-align: right;\">\n",
       "      <th></th>\n",
       "      <th>Product</th>\n",
       "      <th>Quantity</th>\n",
       "      <th>Price</th>\n",
       "    </tr>\n",
       "  </thead>\n",
       "  <tbody>\n",
       "    <tr>\n",
       "      <th>0</th>\n",
       "      <td>Snickers Chocolate</td>\n",
       "      <td>18 gm</td>\n",
       "      <td>৳ 20</td>\n",
       "    </tr>\n",
       "    <tr>\n",
       "      <th>1</th>\n",
       "      <td>Snickers Chocolate</td>\n",
       "      <td>50 gm</td>\n",
       "      <td>৳ 55</td>\n",
       "    </tr>\n",
       "    <tr>\n",
       "      <th>2</th>\n",
       "      <td>Cadbury Dairy Milk Chocolate</td>\n",
       "      <td>25.3 gm</td>\n",
       "      <td>৳ 40</td>\n",
       "    </tr>\n",
       "    <tr>\n",
       "      <th>3</th>\n",
       "      <td>Fresh Chocolate Bar</td>\n",
       "      <td>15.5 gm</td>\n",
       "      <td>৳ 10</td>\n",
       "    </tr>\n",
       "    <tr>\n",
       "      <th>4</th>\n",
       "      <td>Cadbury Dairy Milk Silk Plain Chocolate</td>\n",
       "      <td>60 gm</td>\n",
       "      <td>৳ 130</td>\n",
       "    </tr>\n",
       "  </tbody>\n",
       "</table>\n",
       "</div>"
      ],
      "text/plain": [
       "                                   Product Quantity  Price\n",
       "0                       Snickers Chocolate    18 gm   ৳ 20\n",
       "1                       Snickers Chocolate    50 gm   ৳ 55\n",
       "2             Cadbury Dairy Milk Chocolate  25.3 gm   ৳ 40\n",
       "3                      Fresh Chocolate Bar  15.5 gm   ৳ 10\n",
       "4  Cadbury Dairy Milk Silk Plain Chocolate    60 gm  ৳ 130"
      ]
     },
     "execution_count": 21,
     "metadata": {},
     "output_type": "execute_result"
    }
   ],
   "source": [
    "productlist5 = {'Product':product5, 'Quantity':amount5, 'Price':price5}\n",
    "df5 = pd.DataFrame(productlist5)\n",
    "df5.head()"
   ]
  },
  {
   "cell_type": "code",
   "execution_count": 22,
   "metadata": {},
   "outputs": [],
   "source": [
    "df5.to_csv(r'C:\\Users\\Arnob\\Desktop\\DataScience\\chaldal-web-scraping\\chaldal-candy.csv', index=False)"
   ]
  },
  {
   "cell_type": "markdown",
   "metadata": {},
   "source": [
    "# Dataframe for local snacks"
   ]
  },
  {
   "cell_type": "code",
   "execution_count": 2,
   "metadata": {},
   "outputs": [],
   "source": [
    "baseurl6 = 'https://chaldal.com/local-snacks'\n",
    "r6 = requests.get(baseurl6)\n",
    "soup6 = bs(r6.content, 'lxml')\n",
    "products6 = soup6.find_all('div', class_='product')"
   ]
  },
  {
   "cell_type": "code",
   "execution_count": 3,
   "metadata": {},
   "outputs": [],
   "source": [
    "product6 = []\n",
    "amount6 = []\n",
    "price6 = []\n",
    "\n",
    "for item in products6:\n",
    "    for i in item.find_all('div', class_='imageWrapper'):\n",
    "        for j in i.find_all('div', class_='name'):\n",
    "            product6.append(j.text)\n",
    "            \n",
    "for item in products6:\n",
    "    for i in item.find_all('div', class_='imageWrapper'):\n",
    "        for j in i.find_all('div', class_='subText'):\n",
    "            amount6.append(j.text)\n",
    "            \n",
    "for item in products6:\n",
    "    for i in item.find_all('div', class_='imageWrapper'):\n",
    "        for j in i.find_all('div', class_='price'):\n",
    "            price6.append(j.text)           "
   ]
  },
  {
   "cell_type": "code",
   "execution_count": 4,
   "metadata": {},
   "outputs": [
    {
     "data": {
      "text/html": [
       "<div>\n",
       "<style scoped>\n",
       "    .dataframe tbody tr th:only-of-type {\n",
       "        vertical-align: middle;\n",
       "    }\n",
       "\n",
       "    .dataframe tbody tr th {\n",
       "        vertical-align: top;\n",
       "    }\n",
       "\n",
       "    .dataframe thead th {\n",
       "        text-align: right;\n",
       "    }\n",
       "</style>\n",
       "<table border=\"1\" class=\"dataframe\">\n",
       "  <thead>\n",
       "    <tr style=\"text-align: right;\">\n",
       "      <th></th>\n",
       "      <th>Product</th>\n",
       "      <th>Quantity</th>\n",
       "      <th>Price</th>\n",
       "    </tr>\n",
       "  </thead>\n",
       "  <tbody>\n",
       "    <tr>\n",
       "      <th>0</th>\n",
       "      <td>PRAN Puffed Rice (Muri)</td>\n",
       "      <td>500 gm</td>\n",
       "      <td>৳ 60</td>\n",
       "    </tr>\n",
       "    <tr>\n",
       "      <th>1</th>\n",
       "      <td>Bombay Sweets Jhal Muri</td>\n",
       "      <td>30 gm</td>\n",
       "      <td>৳ 10</td>\n",
       "    </tr>\n",
       "    <tr>\n",
       "      <th>2</th>\n",
       "      <td>Bombay Sweets Chanachur</td>\n",
       "      <td>600 gm</td>\n",
       "      <td>৳ 100</td>\n",
       "    </tr>\n",
       "    <tr>\n",
       "      <th>3</th>\n",
       "      <td>Bombay Sweets Chanachur</td>\n",
       "      <td>150 gm</td>\n",
       "      <td>৳ 30</td>\n",
       "    </tr>\n",
       "    <tr>\n",
       "      <th>4</th>\n",
       "      <td>PRAN Flattened Rice (chira)</td>\n",
       "      <td>500 gm</td>\n",
       "      <td>৳ 60</td>\n",
       "    </tr>\n",
       "  </tbody>\n",
       "</table>\n",
       "</div>"
      ],
      "text/plain": [
       "                       Product Quantity  Price\n",
       "0      PRAN Puffed Rice (Muri)   500 gm   ৳ 60\n",
       "1      Bombay Sweets Jhal Muri    30 gm   ৳ 10\n",
       "2      Bombay Sweets Chanachur   600 gm  ৳ 100\n",
       "3      Bombay Sweets Chanachur   150 gm   ৳ 30\n",
       "4  PRAN Flattened Rice (chira)   500 gm   ৳ 60"
      ]
     },
     "execution_count": 4,
     "metadata": {},
     "output_type": "execute_result"
    }
   ],
   "source": [
    "productlist6 = {'Product':product6, 'Quantity':amount6, 'Price':price6}\n",
    "df6 = pd.DataFrame(productlist6)\n",
    "df6.head()"
   ]
  },
  {
   "cell_type": "code",
   "execution_count": 5,
   "metadata": {},
   "outputs": [],
   "source": [
    "df6.to_csv(r'C:\\Users\\Arnob\\Desktop\\DataScience\\chaldal-web-scraping\\chaldal-local-snacks.csv', index=False)"
   ]
  },
  {
   "cell_type": "markdown",
   "metadata": {},
   "source": [
    "# Dataframe for popcorn"
   ]
  },
  {
   "cell_type": "code",
   "execution_count": 6,
   "metadata": {},
   "outputs": [],
   "source": [
    "baseurl7 = 'https://chaldal.com/popcorn-nuts'\n",
    "r7 = requests.get(baseurl7)\n",
    "soup7 = bs(r7.content, 'lxml')\n",
    "products7 = soup7.find_all('div', class_='product')"
   ]
  },
  {
   "cell_type": "code",
   "execution_count": 7,
   "metadata": {},
   "outputs": [],
   "source": [
    "product7 = []\n",
    "amount7 = []\n",
    "price7 = []\n",
    "\n",
    "for item in products7:\n",
    "    for i in item.find_all('div', class_='imageWrapper'):\n",
    "        for j in i.find_all('div', class_='name'):\n",
    "            product7.append(j.text)\n",
    "            \n",
    "for item in products7:\n",
    "    for i in item.find_all('div', class_='imageWrapper'):\n",
    "        for j in i.find_all('div', class_='subText'):\n",
    "            amount7.append(j.text)\n",
    "            \n",
    "for item in products7:\n",
    "    for i in item.find_all('div', class_='imageWrapper'):\n",
    "        for j in i.find_all('div', class_='price'):\n",
    "            price7.append(j.text)           "
   ]
  },
  {
   "cell_type": "code",
   "execution_count": 8,
   "metadata": {},
   "outputs": [
    {
     "data": {
      "text/html": [
       "<div>\n",
       "<style scoped>\n",
       "    .dataframe tbody tr th:only-of-type {\n",
       "        vertical-align: middle;\n",
       "    }\n",
       "\n",
       "    .dataframe tbody tr th {\n",
       "        vertical-align: top;\n",
       "    }\n",
       "\n",
       "    .dataframe thead th {\n",
       "        text-align: right;\n",
       "    }\n",
       "</style>\n",
       "<table border=\"1\" class=\"dataframe\">\n",
       "  <thead>\n",
       "    <tr style=\"text-align: right;\">\n",
       "      <th></th>\n",
       "      <th>Product</th>\n",
       "      <th>Quantity</th>\n",
       "      <th>Price</th>\n",
       "    </tr>\n",
       "  </thead>\n",
       "  <tbody>\n",
       "    <tr>\n",
       "      <th>0</th>\n",
       "      <td>Peanut Raw (Kacha Cheena Badam)</td>\n",
       "      <td>100 gm</td>\n",
       "      <td>৳ 30</td>\n",
       "    </tr>\n",
       "    <tr>\n",
       "      <th>1</th>\n",
       "      <td>Walnuts (Akhrot)</td>\n",
       "      <td>100 gm</td>\n",
       "      <td>৳ 139</td>\n",
       "    </tr>\n",
       "    <tr>\n",
       "      <th>2</th>\n",
       "      <td>Tong Garden Salted Cashew Nuts</td>\n",
       "      <td>40 gm</td>\n",
       "      <td>৳ 125</td>\n",
       "    </tr>\n",
       "    <tr>\n",
       "      <th>3</th>\n",
       "      <td>Tong Garden Party Snack</td>\n",
       "      <td>25 gm</td>\n",
       "      <td>৳ 30</td>\n",
       "    </tr>\n",
       "    <tr>\n",
       "      <th>4</th>\n",
       "      <td>Fit Food Honey Roasted Almond</td>\n",
       "      <td>135 gm</td>\n",
       "      <td>৳ 230</td>\n",
       "    </tr>\n",
       "  </tbody>\n",
       "</table>\n",
       "</div>"
      ],
      "text/plain": [
       "                           Product Quantity  Price\n",
       "0  Peanut Raw (Kacha Cheena Badam)   100 gm   ৳ 30\n",
       "1                 Walnuts (Akhrot)   100 gm  ৳ 139\n",
       "2   Tong Garden Salted Cashew Nuts    40 gm  ৳ 125\n",
       "3          Tong Garden Party Snack    25 gm   ৳ 30\n",
       "4    Fit Food Honey Roasted Almond   135 gm  ৳ 230"
      ]
     },
     "execution_count": 8,
     "metadata": {},
     "output_type": "execute_result"
    }
   ],
   "source": [
    "productlist7 = {'Product':product7, 'Quantity':amount7, 'Price':price7}\n",
    "df7 = pd.DataFrame(productlist7)\n",
    "df7.head()"
   ]
  },
  {
   "cell_type": "code",
   "execution_count": 9,
   "metadata": {},
   "outputs": [],
   "source": [
    "df7.to_csv(r'C:\\Users\\Arnob\\Desktop\\DataScience\\chaldal-web-scraping\\chaldal-popcorn.csv', index=False)"
   ]
  },
  {
   "cell_type": "markdown",
   "metadata": {},
   "source": [
    "# Dataframe for biscuits"
   ]
  },
  {
   "cell_type": "code",
   "execution_count": 10,
   "metadata": {},
   "outputs": [],
   "source": [
    "baseurl8 = 'https://chaldal.com/biscuits'\n",
    "r8 = requests.get(baseurl8)\n",
    "soup8 = bs(r8.content, 'lxml')\n",
    "products8 = soup8.find_all('div', class_='product')"
   ]
  },
  {
   "cell_type": "code",
   "execution_count": 11,
   "metadata": {},
   "outputs": [],
   "source": [
    "product8 = []\n",
    "amount8 = []\n",
    "price8 = []\n",
    "\n",
    "for item in products8:\n",
    "    for i in item.find_all('div', class_='imageWrapper'):\n",
    "        for j in i.find_all('div', class_='name'):\n",
    "            product8.append(j.text)\n",
    "            \n",
    "for item in products8:\n",
    "    for i in item.find_all('div', class_='imageWrapper'):\n",
    "        for j in i.find_all('div', class_='subText'):\n",
    "            amount8.append(j.text)\n",
    "            \n",
    "for item in products8:\n",
    "    for i in item.find_all('div', class_='imageWrapper'):\n",
    "        for j in i.find_all('div', class_='price'):\n",
    "            price8.append(j.text)           "
   ]
  },
  {
   "cell_type": "code",
   "execution_count": 12,
   "metadata": {},
   "outputs": [
    {
     "data": {
      "text/html": [
       "<div>\n",
       "<style scoped>\n",
       "    .dataframe tbody tr th:only-of-type {\n",
       "        vertical-align: middle;\n",
       "    }\n",
       "\n",
       "    .dataframe tbody tr th {\n",
       "        vertical-align: top;\n",
       "    }\n",
       "\n",
       "    .dataframe thead th {\n",
       "        text-align: right;\n",
       "    }\n",
       "</style>\n",
       "<table border=\"1\" class=\"dataframe\">\n",
       "  <thead>\n",
       "    <tr style=\"text-align: right;\">\n",
       "      <th></th>\n",
       "      <th>Product</th>\n",
       "      <th>Quantity</th>\n",
       "      <th>Price</th>\n",
       "    </tr>\n",
       "  </thead>\n",
       "  <tbody>\n",
       "    <tr>\n",
       "      <th>0</th>\n",
       "      <td>Cocola Champion Chocolate Cream Biscuits</td>\n",
       "      <td>75 gm</td>\n",
       "      <td>৳ 15</td>\n",
       "    </tr>\n",
       "    <tr>\n",
       "      <th>1</th>\n",
       "      <td>Olympic Premium Energy Plus Biscuit</td>\n",
       "      <td>80 gm</td>\n",
       "      <td>৳ 13</td>\n",
       "    </tr>\n",
       "    <tr>\n",
       "      <th>2</th>\n",
       "      <td>Danish Lexus Vegetable Crackers (Buy 2 Get 1)</td>\n",
       "      <td>240 gm</td>\n",
       "      <td>৳ 200</td>\n",
       "    </tr>\n",
       "    <tr>\n",
       "      <th>3</th>\n",
       "      <td>Bisk Club Potata Spicy Flavored Biscuit</td>\n",
       "      <td>100 gm</td>\n",
       "      <td>৳ 25</td>\n",
       "    </tr>\n",
       "    <tr>\n",
       "      <th>4</th>\n",
       "      <td>Olympic Pineapple Cream Biscuits</td>\n",
       "      <td>68 gm</td>\n",
       "      <td>৳ 10</td>\n",
       "    </tr>\n",
       "  </tbody>\n",
       "</table>\n",
       "</div>"
      ],
      "text/plain": [
       "                                         Product Quantity  Price\n",
       "0       Cocola Champion Chocolate Cream Biscuits    75 gm   ৳ 15\n",
       "1            Olympic Premium Energy Plus Biscuit    80 gm   ৳ 13\n",
       "2  Danish Lexus Vegetable Crackers (Buy 2 Get 1)   240 gm  ৳ 200\n",
       "3        Bisk Club Potata Spicy Flavored Biscuit   100 gm   ৳ 25\n",
       "4               Olympic Pineapple Cream Biscuits    68 gm   ৳ 10"
      ]
     },
     "execution_count": 12,
     "metadata": {},
     "output_type": "execute_result"
    }
   ],
   "source": [
    "productlist8 = {'Product':product8, 'Quantity':amount8, 'Price':price8}\n",
    "df8 = pd.DataFrame(productlist8)\n",
    "df8.head()"
   ]
  },
  {
   "cell_type": "code",
   "execution_count": 13,
   "metadata": {},
   "outputs": [],
   "source": [
    "df8.to_csv(r'C:\\Users\\Arnob\\Desktop\\DataScience\\chaldal-web-scraping\\chaldal-biscuits.csv', index=False)"
   ]
  },
  {
   "cell_type": "markdown",
   "metadata": {},
   "source": [
    "# Dataframe for salad dressing"
   ]
  },
  {
   "cell_type": "code",
   "execution_count": 14,
   "metadata": {},
   "outputs": [],
   "source": [
    "baseurl9 = 'https://chaldal.com/salad-dressing'\n",
    "r9 = requests.get(baseurl9)\n",
    "soup9 = bs(r9.content, 'lxml')\n",
    "products9 = soup9.find_all('div', class_='product')"
   ]
  },
  {
   "cell_type": "code",
   "execution_count": 15,
   "metadata": {},
   "outputs": [],
   "source": [
    "product9 = []\n",
    "amount9 = []\n",
    "price9 = []\n",
    "\n",
    "for item in products9:\n",
    "    for i in item.find_all('div', class_='imageWrapper'):\n",
    "        for j in i.find_all('div', class_='name'):\n",
    "            product9.append(j.text)\n",
    "            \n",
    "for item in products9:\n",
    "    for i in item.find_all('div', class_='imageWrapper'):\n",
    "        for j in i.find_all('div', class_='subText'):\n",
    "            amount9.append(j.text)\n",
    "            \n",
    "for item in products9:\n",
    "    for i in item.find_all('div', class_='imageWrapper'):\n",
    "        for j in i.find_all('div', class_='price'):\n",
    "            price9.append(j.text)           "
   ]
  },
  {
   "cell_type": "code",
   "execution_count": 16,
   "metadata": {},
   "outputs": [
    {
     "data": {
      "text/html": [
       "<div>\n",
       "<style scoped>\n",
       "    .dataframe tbody tr th:only-of-type {\n",
       "        vertical-align: middle;\n",
       "    }\n",
       "\n",
       "    .dataframe tbody tr th {\n",
       "        vertical-align: top;\n",
       "    }\n",
       "\n",
       "    .dataframe thead th {\n",
       "        text-align: right;\n",
       "    }\n",
       "</style>\n",
       "<table border=\"1\" class=\"dataframe\">\n",
       "  <thead>\n",
       "    <tr style=\"text-align: right;\">\n",
       "      <th></th>\n",
       "      <th>Product</th>\n",
       "      <th>Quantity</th>\n",
       "      <th>Price</th>\n",
       "    </tr>\n",
       "  </thead>\n",
       "  <tbody>\n",
       "    <tr>\n",
       "      <th>0</th>\n",
       "      <td>PRAN White Vinegar</td>\n",
       "      <td>650 ml</td>\n",
       "      <td>৳ 55</td>\n",
       "    </tr>\n",
       "    <tr>\n",
       "      <th>1</th>\n",
       "      <td>Heinz Apple Cider Vinegar</td>\n",
       "      <td>473 ml</td>\n",
       "      <td>৳ 200</td>\n",
       "    </tr>\n",
       "    <tr>\n",
       "      <th>2</th>\n",
       "      <td>Bragg Organic Apple Cider Vinegar</td>\n",
       "      <td>946 ml</td>\n",
       "      <td>৳ 999</td>\n",
       "    </tr>\n",
       "    <tr>\n",
       "      <th>3</th>\n",
       "      <td>Bragg Organic Apple Cider Vinegar</td>\n",
       "      <td>473 ml</td>\n",
       "      <td>৳ 529</td>\n",
       "    </tr>\n",
       "    <tr>\n",
       "      <th>4</th>\n",
       "      <td>Ahmed White Vinegar</td>\n",
       "      <td>325 ml</td>\n",
       "      <td>৳ 50</td>\n",
       "    </tr>\n",
       "  </tbody>\n",
       "</table>\n",
       "</div>"
      ],
      "text/plain": [
       "                             Product Quantity  Price\n",
       "0                 PRAN White Vinegar   650 ml   ৳ 55\n",
       "1          Heinz Apple Cider Vinegar   473 ml  ৳ 200\n",
       "2  Bragg Organic Apple Cider Vinegar   946 ml  ৳ 999\n",
       "3  Bragg Organic Apple Cider Vinegar   473 ml  ৳ 529\n",
       "4                Ahmed White Vinegar   325 ml   ৳ 50"
      ]
     },
     "execution_count": 16,
     "metadata": {},
     "output_type": "execute_result"
    }
   ],
   "source": [
    "productlist9 = {'Product':product9, 'Quantity':amount9, 'Price':price9}\n",
    "df9 = pd.DataFrame(productlist9)\n",
    "df9.head()"
   ]
  },
  {
   "cell_type": "code",
   "execution_count": 17,
   "metadata": {},
   "outputs": [],
   "source": [
    "df9.to_csv(r'C:\\Users\\Arnob\\Desktop\\DataScience\\chaldal-web-scraping\\chaldal-salad-dressing.csv', index=False)"
   ]
  },
  {
   "cell_type": "markdown",
   "metadata": {},
   "source": [
    "# Dataframe for sauces"
   ]
  },
  {
   "cell_type": "code",
   "execution_count": 19,
   "metadata": {},
   "outputs": [],
   "source": [
    "baseurl10 = 'https://chaldal.com/sauces'\n",
    "r10 = requests.get(baseurl10)\n",
    "soup10 = bs(r10.content, 'lxml')\n",
    "products10 = soup10.find_all('div', class_='product')"
   ]
  },
  {
   "cell_type": "code",
   "execution_count": 20,
   "metadata": {},
   "outputs": [],
   "source": [
    "product10 = []\n",
    "amount10 = []\n",
    "price10 = []\n",
    "\n",
    "for item in products10:\n",
    "    for i in item.find_all('div', class_='imageWrapper'):\n",
    "        for j in i.find_all('div', class_='name'):\n",
    "            product10.append(j.text)\n",
    "            \n",
    "for item in products10:\n",
    "    for i in item.find_all('div', class_='imageWrapper'):\n",
    "        for j in i.find_all('div', class_='subText'):\n",
    "            amount10.append(j.text)\n",
    "            \n",
    "for item in products10:\n",
    "    for i in item.find_all('div', class_='imageWrapper'):\n",
    "        for j in i.find_all('div', class_='price'):\n",
    "            price10.append(j.text)           "
   ]
  },
  {
   "cell_type": "code",
   "execution_count": 21,
   "metadata": {},
   "outputs": [
    {
     "data": {
      "text/html": [
       "<div>\n",
       "<style scoped>\n",
       "    .dataframe tbody tr th:only-of-type {\n",
       "        vertical-align: middle;\n",
       "    }\n",
       "\n",
       "    .dataframe tbody tr th {\n",
       "        vertical-align: top;\n",
       "    }\n",
       "\n",
       "    .dataframe thead th {\n",
       "        text-align: right;\n",
       "    }\n",
       "</style>\n",
       "<table border=\"1\" class=\"dataframe\">\n",
       "  <thead>\n",
       "    <tr style=\"text-align: right;\">\n",
       "      <th></th>\n",
       "      <th>Product</th>\n",
       "      <th>Quantity</th>\n",
       "      <th>Price</th>\n",
       "    </tr>\n",
       "  </thead>\n",
       "  <tbody>\n",
       "    <tr>\n",
       "      <th>0</th>\n",
       "      <td>PRAN Hot Tomato Sauce</td>\n",
       "      <td>340 gm</td>\n",
       "      <td>৳ 90</td>\n",
       "    </tr>\n",
       "    <tr>\n",
       "      <th>1</th>\n",
       "      <td>Ahmed Soya Sauce</td>\n",
       "      <td>500 ml</td>\n",
       "      <td>৳ 110</td>\n",
       "    </tr>\n",
       "    <tr>\n",
       "      <th>2</th>\n",
       "      <td>Heinz Tomato Ketchup</td>\n",
       "      <td>300 gm</td>\n",
       "      <td>৳ 135</td>\n",
       "    </tr>\n",
       "    <tr>\n",
       "      <th>3</th>\n",
       "      <td>Pran Soya Sauce</td>\n",
       "      <td>300 ml</td>\n",
       "      <td>৳ 70</td>\n",
       "    </tr>\n",
       "    <tr>\n",
       "      <th>4</th>\n",
       "      <td>Heinz Chili Sauce</td>\n",
       "      <td>300 gm</td>\n",
       "      <td>৳ 140</td>\n",
       "    </tr>\n",
       "  </tbody>\n",
       "</table>\n",
       "</div>"
      ],
      "text/plain": [
       "                 Product Quantity  Price\n",
       "0  PRAN Hot Tomato Sauce   340 gm   ৳ 90\n",
       "1       Ahmed Soya Sauce   500 ml  ৳ 110\n",
       "2   Heinz Tomato Ketchup   300 gm  ৳ 135\n",
       "3        Pran Soya Sauce   300 ml   ৳ 70\n",
       "4      Heinz Chili Sauce   300 gm  ৳ 140"
      ]
     },
     "execution_count": 21,
     "metadata": {},
     "output_type": "execute_result"
    }
   ],
   "source": [
    "productlist10 = {'Product':product10, 'Quantity':amount10, 'Price':price10}\n",
    "df10 = pd.DataFrame(productlist10)\n",
    "df10.head()"
   ]
  },
  {
   "cell_type": "code",
   "execution_count": 22,
   "metadata": {},
   "outputs": [],
   "source": [
    "df10.to_csv(r'C:\\Users\\Arnob\\Desktop\\DataScience\\chaldal-web-scraping\\chaldal-sauces.csv', index=False)"
   ]
  },
  {
   "cell_type": "code",
   "execution_count": null,
   "metadata": {},
   "outputs": [],
   "source": []
  }
 ],
 "metadata": {
  "kernelspec": {
   "display_name": "Python 3",
   "language": "python",
   "name": "python3"
  },
  "language_info": {
   "codemirror_mode": {
    "name": "ipython",
    "version": 3
   },
   "file_extension": ".py",
   "mimetype": "text/x-python",
   "name": "python",
   "nbconvert_exporter": "python",
   "pygments_lexer": "ipython3",
   "version": "3.7.6"
  }
 },
 "nbformat": 4,
 "nbformat_minor": 4
}
