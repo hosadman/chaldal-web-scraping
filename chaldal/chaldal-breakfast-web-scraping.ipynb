{
 "cells": [
  {
   "cell_type": "code",
   "execution_count": 1,
   "metadata": {},
   "outputs": [],
   "source": [
    "import requests\n",
    "from bs4 import BeautifulSoup as bs\n",
    "import pandas as pd"
   ]
  },
  {
   "cell_type": "markdown",
   "metadata": {},
   "source": [
    "# Dataframe for local breakfast"
   ]
  },
  {
   "cell_type": "code",
   "execution_count": 2,
   "metadata": {},
   "outputs": [],
   "source": [
    "baseurl = 'https://chaldal.com/local-breakfast'\n",
    "r = requests.get(baseurl)\n",
    "soup = bs(r.content, 'lxml')\n",
    "products = soup.find_all('div', class_='product')"
   ]
  },
  {
   "cell_type": "code",
   "execution_count": 3,
   "metadata": {},
   "outputs": [],
   "source": [
    "product = []\n",
    "amount = []\n",
    "price = []\n",
    "\n",
    "for item in products:\n",
    "    for i in item.find_all('div', class_='imageWrapper'):\n",
    "        for j in i.find_all('div', class_='name'):\n",
    "            product.append(j.text)\n",
    "            \n",
    "for item in products:\n",
    "    for i in item.find_all('div', class_='imageWrapper'):\n",
    "        for j in i.find_all('div', class_='subText'):\n",
    "            amount.append(j.text)\n",
    "            \n",
    "for item in products:\n",
    "    for i in item.find_all('div', class_='imageWrapper'):\n",
    "        for j in i.find_all('div', class_='price'):\n",
    "            price.append(j.text)           "
   ]
  },
  {
   "cell_type": "code",
   "execution_count": 4,
   "metadata": {},
   "outputs": [
    {
     "data": {
      "text/html": [
       "<div>\n",
       "<style scoped>\n",
       "    .dataframe tbody tr th:only-of-type {\n",
       "        vertical-align: middle;\n",
       "    }\n",
       "\n",
       "    .dataframe tbody tr th {\n",
       "        vertical-align: top;\n",
       "    }\n",
       "\n",
       "    .dataframe thead th {\n",
       "        text-align: right;\n",
       "    }\n",
       "</style>\n",
       "<table border=\"1\" class=\"dataframe\">\n",
       "  <thead>\n",
       "    <tr style=\"text-align: right;\">\n",
       "      <th></th>\n",
       "      <th>Product</th>\n",
       "      <th>Quantity</th>\n",
       "      <th>Price</th>\n",
       "    </tr>\n",
       "  </thead>\n",
       "  <tbody>\n",
       "    <tr>\n",
       "      <th>0</th>\n",
       "      <td>White Bread</td>\n",
       "      <td>500 gm</td>\n",
       "      <td>৳ 75</td>\n",
       "    </tr>\n",
       "    <tr>\n",
       "      <th>1</th>\n",
       "      <td>Golden Harvest Frozen Paratha Family Pack</td>\n",
       "      <td>20 pcs</td>\n",
       "      <td>৳ 250</td>\n",
       "    </tr>\n",
       "    <tr>\n",
       "      <th>2</th>\n",
       "      <td>PRAN Puffed Rice (Muri)</td>\n",
       "      <td>500 gm</td>\n",
       "      <td>৳ 60</td>\n",
       "    </tr>\n",
       "    <tr>\n",
       "      <th>3</th>\n",
       "      <td>Cocola Chocolate Wafer Roll Jar</td>\n",
       "      <td>280 gm</td>\n",
       "      <td>৳ 60</td>\n",
       "    </tr>\n",
       "    <tr>\n",
       "      <th>4</th>\n",
       "      <td>Special Brown Bread</td>\n",
       "      <td>300 gm</td>\n",
       "      <td>৳ 105</td>\n",
       "    </tr>\n",
       "  </tbody>\n",
       "</table>\n",
       "</div>"
      ],
      "text/plain": [
       "                                     Product Quantity  Price\n",
       "0                                White Bread   500 gm   ৳ 75\n",
       "1  Golden Harvest Frozen Paratha Family Pack   20 pcs  ৳ 250\n",
       "2                    PRAN Puffed Rice (Muri)   500 gm   ৳ 60\n",
       "3            Cocola Chocolate Wafer Roll Jar   280 gm   ৳ 60\n",
       "4                        Special Brown Bread   300 gm  ৳ 105"
      ]
     },
     "execution_count": 4,
     "metadata": {},
     "output_type": "execute_result"
    }
   ],
   "source": [
    "productlist = {'Product':product, 'Quantity':amount, 'Price':price}\n",
    "df = pd.DataFrame(productlist)\n",
    "df.head()"
   ]
  },
  {
   "cell_type": "code",
   "execution_count": 5,
   "metadata": {},
   "outputs": [],
   "source": [
    "df.to_csv(r'C:\\Users\\Arnob\\Desktop\\DataScience\\chaldal-web-scraping\\chaldal-bread-rice.csv', index=False)"
   ]
  },
  {
   "cell_type": "markdown",
   "metadata": {},
   "source": [
    "# Dataframe for energy boosters"
   ]
  },
  {
   "cell_type": "code",
   "execution_count": 6,
   "metadata": {},
   "outputs": [],
   "source": [
    "baseurl2 = 'https://chaldal.com/energy-boosters'\n",
    "r2 = requests.get(baseurl2)\n",
    "soup2 = bs(r2.content, 'lxml')\n",
    "products2 = soup2.find_all('div', class_='product')"
   ]
  },
  {
   "cell_type": "code",
   "execution_count": 7,
   "metadata": {},
   "outputs": [],
   "source": [
    "product2 = []\n",
    "amount2 = []\n",
    "price2 = []\n",
    "\n",
    "for item in products2:\n",
    "    for i in item.find_all('div', class_='imageWrapper'):\n",
    "        for j in i.find_all('div', class_='name'):\n",
    "            product2.append(j.text)\n",
    "            \n",
    "for item in products2:\n",
    "    for i in item.find_all('div', class_='imageWrapper'):\n",
    "        for j in i.find_all('div', class_='subText'):\n",
    "            amount2.append(j.text)\n",
    "            \n",
    "for item in products2:\n",
    "    for i in item.find_all('div', class_='imageWrapper'):\n",
    "        for j in i.find_all('div', class_='price'):\n",
    "            price2.append(j.text)   "
   ]
  },
  {
   "cell_type": "code",
   "execution_count": 8,
   "metadata": {},
   "outputs": [
    {
     "data": {
      "text/html": [
       "<div>\n",
       "<style scoped>\n",
       "    .dataframe tbody tr th:only-of-type {\n",
       "        vertical-align: middle;\n",
       "    }\n",
       "\n",
       "    .dataframe tbody tr th {\n",
       "        vertical-align: top;\n",
       "    }\n",
       "\n",
       "    .dataframe thead th {\n",
       "        text-align: right;\n",
       "    }\n",
       "</style>\n",
       "<table border=\"1\" class=\"dataframe\">\n",
       "  <thead>\n",
       "    <tr style=\"text-align: right;\">\n",
       "      <th></th>\n",
       "      <th>Product</th>\n",
       "      <th>Quantity</th>\n",
       "      <th>Price</th>\n",
       "    </tr>\n",
       "  </thead>\n",
       "  <tbody>\n",
       "    <tr>\n",
       "      <th>0</th>\n",
       "      <td>Complan Chocolate</td>\n",
       "      <td>350 gm</td>\n",
       "      <td>৳ 385</td>\n",
       "    </tr>\n",
       "    <tr>\n",
       "      <th>1</th>\n",
       "      <td>Purnava Omega 3 Enriched Egg</td>\n",
       "      <td>12 pcs</td>\n",
       "      <td>৳ 220</td>\n",
       "    </tr>\n",
       "    <tr>\n",
       "      <th>2</th>\n",
       "      <td>Purnava Vitamin E Egg</td>\n",
       "      <td>12 pcs</td>\n",
       "      <td>৳ 160</td>\n",
       "    </tr>\n",
       "    <tr>\n",
       "      <th>3</th>\n",
       "      <td>Horlicks Standard Jar</td>\n",
       "      <td>500 gm</td>\n",
       "      <td>৳ 350</td>\n",
       "    </tr>\n",
       "    <tr>\n",
       "      <th>4</th>\n",
       "      <td>Ovaltine Malted Chocolate Drink Jar</td>\n",
       "      <td>400 gm</td>\n",
       "      <td>৳ 395</td>\n",
       "    </tr>\n",
       "  </tbody>\n",
       "</table>\n",
       "</div>"
      ],
      "text/plain": [
       "                               Product Quantity  Price\n",
       "0                    Complan Chocolate   350 gm  ৳ 385\n",
       "1         Purnava Omega 3 Enriched Egg   12 pcs  ৳ 220\n",
       "2                Purnava Vitamin E Egg   12 pcs  ৳ 160\n",
       "3                Horlicks Standard Jar   500 gm  ৳ 350\n",
       "4  Ovaltine Malted Chocolate Drink Jar   400 gm  ৳ 395"
      ]
     },
     "execution_count": 8,
     "metadata": {},
     "output_type": "execute_result"
    }
   ],
   "source": [
    "productlist2 = {'Product':product2, 'Quantity':amount2, 'Price':price2}\n",
    "df2 = pd.DataFrame(productlist2)\n",
    "df2.head()"
   ]
  },
  {
   "cell_type": "code",
   "execution_count": 9,
   "metadata": {},
   "outputs": [],
   "source": [
    "df2.to_csv(r'C:\\Users\\Arnob\\Desktop\\DataScience\\chaldal-web-scraping\\chaldal-energy-boosters.csv', index=False)"
   ]
  },
  {
   "cell_type": "markdown",
   "metadata": {},
   "source": [
    "# Dataframe for cereals"
   ]
  },
  {
   "cell_type": "code",
   "execution_count": 10,
   "metadata": {},
   "outputs": [],
   "source": [
    "baseurl3 = 'https://chaldal.com/cereals'\n",
    "r3 = requests.get(baseurl3)\n",
    "soup3 = bs(r3.content, 'lxml')\n",
    "products3 = soup3.find_all('div', class_='product')"
   ]
  },
  {
   "cell_type": "code",
   "execution_count": 11,
   "metadata": {},
   "outputs": [],
   "source": [
    "product3 = []\n",
    "amount3 = []\n",
    "price3 = []\n",
    "\n",
    "for item in products3:\n",
    "    for i in item.find_all('div', class_='imageWrapper'):\n",
    "        for j in i.find_all('div', class_='name'):\n",
    "            product3.append(j.text)\n",
    "            \n",
    "for item in products3:\n",
    "    for i in item.find_all('div', class_='imageWrapper'):\n",
    "        for j in i.find_all('div', class_='subText'):\n",
    "            amount3.append(j.text)\n",
    "            \n",
    "for item in products3:\n",
    "    for i in item.find_all('div', class_='imageWrapper'):\n",
    "        for j in i.find_all('div', class_='price'):\n",
    "            price3.append(j.text)           "
   ]
  },
  {
   "cell_type": "code",
   "execution_count": 12,
   "metadata": {},
   "outputs": [
    {
     "data": {
      "text/html": [
       "<div>\n",
       "<style scoped>\n",
       "    .dataframe tbody tr th:only-of-type {\n",
       "        vertical-align: middle;\n",
       "    }\n",
       "\n",
       "    .dataframe tbody tr th {\n",
       "        vertical-align: top;\n",
       "    }\n",
       "\n",
       "    .dataframe thead th {\n",
       "        text-align: right;\n",
       "    }\n",
       "</style>\n",
       "<table border=\"1\" class=\"dataframe\">\n",
       "  <thead>\n",
       "    <tr style=\"text-align: right;\">\n",
       "      <th></th>\n",
       "      <th>Product</th>\n",
       "      <th>Quantity</th>\n",
       "      <th>Price</th>\n",
       "    </tr>\n",
       "  </thead>\n",
       "  <tbody>\n",
       "    <tr>\n",
       "      <th>0</th>\n",
       "      <td>Quaker Oats Poly</td>\n",
       "      <td>500 gm</td>\n",
       "      <td>৳ 265</td>\n",
       "    </tr>\n",
       "    <tr>\n",
       "      <th>1</th>\n",
       "      <td>Nestlé Corn Flakes Breakfast Cereal Box</td>\n",
       "      <td>275 gm</td>\n",
       "      <td>৳ 330</td>\n",
       "    </tr>\n",
       "    <tr>\n",
       "      <th>2</th>\n",
       "      <td>Quaker Oats Australia</td>\n",
       "      <td>1 kg</td>\n",
       "      <td>৳ 575</td>\n",
       "    </tr>\n",
       "    <tr>\n",
       "      <th>3</th>\n",
       "      <td>Nestlé Koko Krunch Chocolate Cereal Pouch</td>\n",
       "      <td>80 gm</td>\n",
       "      <td>৳ 85</td>\n",
       "    </tr>\n",
       "    <tr>\n",
       "      <th>4</th>\n",
       "      <td>Kellogg's Corn Flakes Original Breakfast Cereal</td>\n",
       "      <td>475 gm</td>\n",
       "      <td>৳ 385</td>\n",
       "    </tr>\n",
       "  </tbody>\n",
       "</table>\n",
       "</div>"
      ],
      "text/plain": [
       "                                           Product Quantity  Price\n",
       "0                                 Quaker Oats Poly   500 gm  ৳ 265\n",
       "1          Nestlé Corn Flakes Breakfast Cereal Box   275 gm  ৳ 330\n",
       "2                            Quaker Oats Australia     1 kg  ৳ 575\n",
       "3        Nestlé Koko Krunch Chocolate Cereal Pouch    80 gm   ৳ 85\n",
       "4  Kellogg's Corn Flakes Original Breakfast Cereal   475 gm  ৳ 385"
      ]
     },
     "execution_count": 12,
     "metadata": {},
     "output_type": "execute_result"
    }
   ],
   "source": [
    "productlist3 = {'Product':product3, 'Quantity':amount3, 'Price':price3}\n",
    "df3 = pd.DataFrame(productlist3)\n",
    "df3.head()"
   ]
  },
  {
   "cell_type": "code",
   "execution_count": 13,
   "metadata": {},
   "outputs": [],
   "source": [
    "df3.to_csv(r'C:\\Users\\Arnob\\Desktop\\DataScience\\chaldal-web-scraping\\chaldal-cereals.csv', index=False)"
   ]
  },
  {
   "cell_type": "markdown",
   "metadata": {},
   "source": [
    "# Dataframe for jam and spreads"
   ]
  },
  {
   "cell_type": "code",
   "execution_count": 14,
   "metadata": {},
   "outputs": [],
   "source": [
    "baseurl4 = 'https://chaldal.com/dips-spreads'\n",
    "r4 = requests.get(baseurl4)\n",
    "soup4 = bs(r4.content, 'lxml')\n",
    "products4 = soup4.find_all('div', class_='product')"
   ]
  },
  {
   "cell_type": "code",
   "execution_count": 15,
   "metadata": {},
   "outputs": [],
   "source": [
    "product4 = []\n",
    "amount4 = []\n",
    "price4 = []\n",
    "\n",
    "for item in products4:\n",
    "    for i in item.find_all('div', class_='imageWrapper'):\n",
    "        for j in i.find_all('div', class_='name'):\n",
    "            product4.append(j.text)\n",
    "            \n",
    "for item in products4:\n",
    "    for i in item.find_all('div', class_='imageWrapper'):\n",
    "        for j in i.find_all('div', class_='subText'):\n",
    "            amount4.append(j.text)\n",
    "            \n",
    "for item in products4:\n",
    "    for i in item.find_all('div', class_='imageWrapper'):\n",
    "        for j in i.find_all('div', class_='price'):\n",
    "            price4.append(j.text)           "
   ]
  },
  {
   "cell_type": "code",
   "execution_count": 16,
   "metadata": {},
   "outputs": [
    {
     "data": {
      "text/html": [
       "<div>\n",
       "<style scoped>\n",
       "    .dataframe tbody tr th:only-of-type {\n",
       "        vertical-align: middle;\n",
       "    }\n",
       "\n",
       "    .dataframe tbody tr th {\n",
       "        vertical-align: top;\n",
       "    }\n",
       "\n",
       "    .dataframe thead th {\n",
       "        text-align: right;\n",
       "    }\n",
       "</style>\n",
       "<table border=\"1\" class=\"dataframe\">\n",
       "  <thead>\n",
       "    <tr style=\"text-align: right;\">\n",
       "      <th></th>\n",
       "      <th>Product</th>\n",
       "      <th>Quantity</th>\n",
       "      <th>Price</th>\n",
       "    </tr>\n",
       "  </thead>\n",
       "  <tbody>\n",
       "    <tr>\n",
       "      <th>0</th>\n",
       "      <td>Nutella Hazelnut Ferrero Cocoa Spread</td>\n",
       "      <td>350 gm</td>\n",
       "      <td>৳ 520</td>\n",
       "    </tr>\n",
       "    <tr>\n",
       "      <th>1</th>\n",
       "      <td>Farm Fresh Butter (50 gm*4)</td>\n",
       "      <td>200 gm</td>\n",
       "      <td>৳ 184</td>\n",
       "    </tr>\n",
       "    <tr>\n",
       "      <th>2</th>\n",
       "      <td>Nocilla Two Colour Chocolate</td>\n",
       "      <td>200 gm</td>\n",
       "      <td>৳ 275</td>\n",
       "    </tr>\n",
       "    <tr>\n",
       "      <th>3</th>\n",
       "      <td>Herman Mayonnaise</td>\n",
       "      <td>236 gm</td>\n",
       "      <td>৳ 135</td>\n",
       "    </tr>\n",
       "    <tr>\n",
       "      <th>4</th>\n",
       "      <td>Hershey's Chocolate Syrup</td>\n",
       "      <td>680 gm</td>\n",
       "      <td>৳ 429</td>\n",
       "    </tr>\n",
       "  </tbody>\n",
       "</table>\n",
       "</div>"
      ],
      "text/plain": [
       "                                 Product Quantity  Price\n",
       "0  Nutella Hazelnut Ferrero Cocoa Spread   350 gm  ৳ 520\n",
       "1            Farm Fresh Butter (50 gm*4)   200 gm  ৳ 184\n",
       "2           Nocilla Two Colour Chocolate   200 gm  ৳ 275\n",
       "3                      Herman Mayonnaise   236 gm  ৳ 135\n",
       "4              Hershey's Chocolate Syrup   680 gm  ৳ 429"
      ]
     },
     "execution_count": 16,
     "metadata": {},
     "output_type": "execute_result"
    }
   ],
   "source": [
    "productlist4 = {'Product':product4, 'Quantity':amount4, 'Price':price4}\n",
    "df4 = pd.DataFrame(productlist4)\n",
    "df4.head()"
   ]
  },
  {
   "cell_type": "code",
   "execution_count": 17,
   "metadata": {},
   "outputs": [],
   "source": [
    "df4.to_csv(r'C:\\Users\\Arnob\\Desktop\\DataScience\\chaldal-web-scraping\\chaldal-jams.csv', index=False)"
   ]
  },
  {
   "cell_type": "code",
   "execution_count": null,
   "metadata": {},
   "outputs": [],
   "source": []
  }
 ],
 "metadata": {
  "kernelspec": {
   "display_name": "Python 3",
   "language": "python",
   "name": "python3"
  },
  "language_info": {
   "codemirror_mode": {
    "name": "ipython",
    "version": 3
   },
   "file_extension": ".py",
   "mimetype": "text/x-python",
   "name": "python",
   "nbconvert_exporter": "python",
   "pygments_lexer": "ipython3",
   "version": "3.7.6"
  }
 },
 "nbformat": 4,
 "nbformat_minor": 4
}
