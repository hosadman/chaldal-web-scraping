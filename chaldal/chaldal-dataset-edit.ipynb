{
 "cells": [
  {
   "cell_type": "code",
   "execution_count": 1,
   "metadata": {},
   "outputs": [],
   "source": [
    "import pandas as pd\n",
    "import numpy as np"
   ]
  },
  {
   "cell_type": "code",
   "execution_count": 2,
   "metadata": {},
   "outputs": [
    {
     "data": {
      "text/html": [
       "<div>\n",
       "<style scoped>\n",
       "    .dataframe tbody tr th:only-of-type {\n",
       "        vertical-align: middle;\n",
       "    }\n",
       "\n",
       "    .dataframe tbody tr th {\n",
       "        vertical-align: top;\n",
       "    }\n",
       "\n",
       "    .dataframe thead th {\n",
       "        text-align: right;\n",
       "    }\n",
       "</style>\n",
       "<table border=\"1\" class=\"dataframe\">\n",
       "  <thead>\n",
       "    <tr style=\"text-align: right;\">\n",
       "      <th></th>\n",
       "      <th>Product</th>\n",
       "      <th>Quantity</th>\n",
       "      <th>Price</th>\n",
       "      <th>Category</th>\n",
       "    </tr>\n",
       "  </thead>\n",
       "  <tbody>\n",
       "    <tr>\n",
       "      <th>0</th>\n",
       "      <td>Ispahani Mirzapore Best Leaf Tea</td>\n",
       "      <td>400 gm</td>\n",
       "      <td>৳ 210</td>\n",
       "      <td>Beverage</td>\n",
       "    </tr>\n",
       "    <tr>\n",
       "      <th>1</th>\n",
       "      <td>Brooke Bond Taaza Black Tea (Jar Free) 400 gm*2</td>\n",
       "      <td>NaN</td>\n",
       "      <td>৳ 398</td>\n",
       "      <td>Beverage</td>\n",
       "    </tr>\n",
       "    <tr>\n",
       "      <th>2</th>\n",
       "      <td>Brooke Bond Taaza Black Tea</td>\n",
       "      <td>400 gm</td>\n",
       "      <td>৳ 199</td>\n",
       "      <td>Beverage</td>\n",
       "    </tr>\n",
       "    <tr>\n",
       "      <th>3</th>\n",
       "      <td>Ispahani Mirzapore Tea Bag</td>\n",
       "      <td>50 pcs</td>\n",
       "      <td>৳ 90</td>\n",
       "      <td>Beverage</td>\n",
       "    </tr>\n",
       "    <tr>\n",
       "      <th>4</th>\n",
       "      <td>Ispahani Mirzapore Best Leaf Tea</td>\n",
       "      <td>200 gm</td>\n",
       "      <td>৳ 110</td>\n",
       "      <td>Beverage</td>\n",
       "    </tr>\n",
       "  </tbody>\n",
       "</table>\n",
       "</div>"
      ],
      "text/plain": [
       "                                           Product Quantity  Price  Category\n",
       "0                 Ispahani Mirzapore Best Leaf Tea   400 gm  ৳ 210  Beverage\n",
       "1  Brooke Bond Taaza Black Tea (Jar Free) 400 gm*2      NaN  ৳ 398  Beverage\n",
       "2                      Brooke Bond Taaza Black Tea   400 gm  ৳ 199  Beverage\n",
       "3                       Ispahani Mirzapore Tea Bag   50 pcs   ৳ 90  Beverage\n",
       "4                 Ispahani Mirzapore Best Leaf Tea   200 gm  ৳ 110  Beverage"
      ]
     },
     "execution_count": 2,
     "metadata": {},
     "output_type": "execute_result"
    }
   ],
   "source": [
    "df = pd.read_csv('chaldal-final-dataset.csv')\n",
    "df.head()"
   ]
  },
  {
   "cell_type": "code",
   "execution_count": 3,
   "metadata": {},
   "outputs": [
    {
     "data": {
      "text/plain": [
       "Product     object\n",
       "Quantity    object\n",
       "Price       object\n",
       "Category    object\n",
       "dtype: object"
      ]
     },
     "execution_count": 3,
     "metadata": {},
     "output_type": "execute_result"
    }
   ],
   "source": [
    "df.dtypes"
   ]
  },
  {
   "cell_type": "code",
   "execution_count": 4,
   "metadata": {},
   "outputs": [],
   "source": [
    "df['Price'] = df['Price'].replace({'\\৳': '', ',': ''}, regex=True)\n",
    "df['Price'] = pd.to_numeric(df['Price'])"
   ]
  },
  {
   "cell_type": "code",
   "execution_count": 5,
   "metadata": {},
   "outputs": [
    {
     "data": {
      "text/html": [
       "<div>\n",
       "<style scoped>\n",
       "    .dataframe tbody tr th:only-of-type {\n",
       "        vertical-align: middle;\n",
       "    }\n",
       "\n",
       "    .dataframe tbody tr th {\n",
       "        vertical-align: top;\n",
       "    }\n",
       "\n",
       "    .dataframe thead th {\n",
       "        text-align: right;\n",
       "    }\n",
       "</style>\n",
       "<table border=\"1\" class=\"dataframe\">\n",
       "  <thead>\n",
       "    <tr style=\"text-align: right;\">\n",
       "      <th></th>\n",
       "      <th>Product</th>\n",
       "      <th>Quantity</th>\n",
       "      <th>Price</th>\n",
       "      <th>Category</th>\n",
       "    </tr>\n",
       "  </thead>\n",
       "  <tbody>\n",
       "    <tr>\n",
       "      <th>0</th>\n",
       "      <td>Ispahani Mirzapore Best Leaf Tea</td>\n",
       "      <td>400 gm</td>\n",
       "      <td>210</td>\n",
       "      <td>Beverage</td>\n",
       "    </tr>\n",
       "    <tr>\n",
       "      <th>1</th>\n",
       "      <td>Brooke Bond Taaza Black Tea (Jar Free) 400 gm*2</td>\n",
       "      <td>NaN</td>\n",
       "      <td>398</td>\n",
       "      <td>Beverage</td>\n",
       "    </tr>\n",
       "    <tr>\n",
       "      <th>2</th>\n",
       "      <td>Brooke Bond Taaza Black Tea</td>\n",
       "      <td>400 gm</td>\n",
       "      <td>199</td>\n",
       "      <td>Beverage</td>\n",
       "    </tr>\n",
       "    <tr>\n",
       "      <th>3</th>\n",
       "      <td>Ispahani Mirzapore Tea Bag</td>\n",
       "      <td>50 pcs</td>\n",
       "      <td>90</td>\n",
       "      <td>Beverage</td>\n",
       "    </tr>\n",
       "    <tr>\n",
       "      <th>4</th>\n",
       "      <td>Ispahani Mirzapore Best Leaf Tea</td>\n",
       "      <td>200 gm</td>\n",
       "      <td>110</td>\n",
       "      <td>Beverage</td>\n",
       "    </tr>\n",
       "  </tbody>\n",
       "</table>\n",
       "</div>"
      ],
      "text/plain": [
       "                                           Product Quantity  Price  Category\n",
       "0                 Ispahani Mirzapore Best Leaf Tea   400 gm    210  Beverage\n",
       "1  Brooke Bond Taaza Black Tea (Jar Free) 400 gm*2      NaN    398  Beverage\n",
       "2                      Brooke Bond Taaza Black Tea   400 gm    199  Beverage\n",
       "3                       Ispahani Mirzapore Tea Bag   50 pcs     90  Beverage\n",
       "4                 Ispahani Mirzapore Best Leaf Tea   200 gm    110  Beverage"
      ]
     },
     "execution_count": 5,
     "metadata": {},
     "output_type": "execute_result"
    }
   ],
   "source": [
    "df.head()"
   ]
  },
  {
   "cell_type": "code",
   "execution_count": 6,
   "metadata": {},
   "outputs": [
    {
     "data": {
      "text/plain": [
       "Product     object\n",
       "Quantity    object\n",
       "Price        int64\n",
       "Category    object\n",
       "dtype: object"
      ]
     },
     "execution_count": 6,
     "metadata": {},
     "output_type": "execute_result"
    }
   ],
   "source": [
    "df.dtypes"
   ]
  },
  {
   "cell_type": "code",
   "execution_count": 7,
   "metadata": {},
   "outputs": [],
   "source": [
    "df.to_csv(r'C:\\Users\\Arnob\\Desktop\\DataScience\\grocery-store-web-scraping\\chaldal\\chaldal-dataset.csv', index=False)"
   ]
  },
  {
   "cell_type": "code",
   "execution_count": null,
   "metadata": {},
   "outputs": [],
   "source": []
  }
 ],
 "metadata": {
  "kernelspec": {
   "display_name": "Python 3",
   "language": "python",
   "name": "python3"
  },
  "language_info": {
   "codemirror_mode": {
    "name": "ipython",
    "version": 3
   },
   "file_extension": ".py",
   "mimetype": "text/x-python",
   "name": "python",
   "nbconvert_exporter": "python",
   "pygments_lexer": "ipython3",
   "version": "3.7.6"
  }
 },
 "nbformat": 4,
 "nbformat_minor": 4
}
