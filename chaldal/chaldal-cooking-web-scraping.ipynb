{
 "cells": [
  {
   "cell_type": "code",
   "execution_count": 1,
   "metadata": {},
   "outputs": [],
   "source": [
    "import requests\n",
    "from bs4 import BeautifulSoup as bs\n",
    "import pandas as pd"
   ]
  },
  {
   "cell_type": "markdown",
   "metadata": {},
   "source": [
    "# Dataframe for spices"
   ]
  },
  {
   "cell_type": "code",
   "execution_count": 3,
   "metadata": {},
   "outputs": [],
   "source": [
    "baseurl = 'https://chaldal.com/spices'\n",
    "r = requests.get(baseurl)\n",
    "soup = bs(r.content, 'lxml')\n",
    "products = soup.find_all('div', class_='product')"
   ]
  },
  {
   "cell_type": "code",
   "execution_count": 4,
   "metadata": {},
   "outputs": [],
   "source": [
    "product = []\n",
    "amount = []\n",
    "price = []\n",
    "\n",
    "for item in products:\n",
    "    for i in item.find_all('div', class_='imageWrapper'):\n",
    "        for j in i.find_all('div', class_='name'):\n",
    "            product.append(j.text)\n",
    "            \n",
    "for item in products:\n",
    "    for i in item.find_all('div', class_='imageWrapper'):\n",
    "        for j in i.find_all('div', class_='subText'):\n",
    "            amount.append(j.text)\n",
    "            \n",
    "for item in products:\n",
    "    for i in item.find_all('div', class_='imageWrapper'):\n",
    "        for j in i.find_all('div', class_='price'):\n",
    "            price.append(j.text)           "
   ]
  },
  {
   "cell_type": "code",
   "execution_count": 5,
   "metadata": {},
   "outputs": [
    {
     "data": {
      "text/html": [
       "<div>\n",
       "<style scoped>\n",
       "    .dataframe tbody tr th:only-of-type {\n",
       "        vertical-align: middle;\n",
       "    }\n",
       "\n",
       "    .dataframe tbody tr th {\n",
       "        vertical-align: top;\n",
       "    }\n",
       "\n",
       "    .dataframe thead th {\n",
       "        text-align: right;\n",
       "    }\n",
       "</style>\n",
       "<table border=\"1\" class=\"dataframe\">\n",
       "  <thead>\n",
       "    <tr style=\"text-align: right;\">\n",
       "      <th></th>\n",
       "      <th>Product</th>\n",
       "      <th>Quantity</th>\n",
       "      <th>Price</th>\n",
       "    </tr>\n",
       "  </thead>\n",
       "  <tbody>\n",
       "    <tr>\n",
       "      <th>0</th>\n",
       "      <td>Cumin Seed (Jira)</td>\n",
       "      <td>100 gm</td>\n",
       "      <td>৳ 50</td>\n",
       "    </tr>\n",
       "    <tr>\n",
       "      <th>1</th>\n",
       "      <td>Cinnamon (Daruchini)</td>\n",
       "      <td>100 gm</td>\n",
       "      <td>৳ 49</td>\n",
       "    </tr>\n",
       "    <tr>\n",
       "      <th>2</th>\n",
       "      <td>Radhuni Turmeric Powder (Holud)</td>\n",
       "      <td>200 gm</td>\n",
       "      <td>৳ 90</td>\n",
       "    </tr>\n",
       "    <tr>\n",
       "      <th>3</th>\n",
       "      <td>Radhuni Chili (Morich) Powder</td>\n",
       "      <td>200 gm</td>\n",
       "      <td>৳ 100</td>\n",
       "    </tr>\n",
       "    <tr>\n",
       "      <th>4</th>\n",
       "      <td>Dried Chilies (Shukna Morich)</td>\n",
       "      <td>100 gm</td>\n",
       "      <td>৳ 39</td>\n",
       "    </tr>\n",
       "  </tbody>\n",
       "</table>\n",
       "</div>"
      ],
      "text/plain": [
       "                           Product Quantity  Price\n",
       "0                Cumin Seed (Jira)   100 gm   ৳ 50\n",
       "1             Cinnamon (Daruchini)   100 gm   ৳ 49\n",
       "2  Radhuni Turmeric Powder (Holud)   200 gm   ৳ 90\n",
       "3    Radhuni Chili (Morich) Powder   200 gm  ৳ 100\n",
       "4    Dried Chilies (Shukna Morich)   100 gm   ৳ 39"
      ]
     },
     "execution_count": 5,
     "metadata": {},
     "output_type": "execute_result"
    }
   ],
   "source": [
    "productlist = {'Product':product, 'Quantity':amount, 'Price':price}\n",
    "df = pd.DataFrame(productlist)\n",
    "df.head()"
   ]
  },
  {
   "cell_type": "code",
   "execution_count": 6,
   "metadata": {},
   "outputs": [],
   "source": [
    "df.to_csv(r'C:\\Users\\Arnob\\Desktop\\DataScience\\chaldal-web-scraping\\chaldal-spices.csv', index=False)"
   ]
  },
  {
   "cell_type": "markdown",
   "metadata": {},
   "source": [
    "# Dataframe for oil"
   ]
  },
  {
   "cell_type": "code",
   "execution_count": 7,
   "metadata": {},
   "outputs": [],
   "source": [
    "baseurl2 = 'https://chaldal.com/oil'\n",
    "r2 = requests.get(baseurl2)\n",
    "soup2 = bs(r2.content, 'lxml')\n",
    "products2 = soup2.find_all('div', class_='product')"
   ]
  },
  {
   "cell_type": "code",
   "execution_count": 8,
   "metadata": {},
   "outputs": [],
   "source": [
    "product2 = []\n",
    "amount2 = []\n",
    "price2 = []\n",
    "\n",
    "for item in products2:\n",
    "    for i in item.find_all('div', class_='imageWrapper'):\n",
    "        for j in i.find_all('div', class_='name'):\n",
    "            product2.append(j.text)\n",
    "            \n",
    "for item in products2:\n",
    "    for i in item.find_all('div', class_='imageWrapper'):\n",
    "        for j in i.find_all('div', class_='subText'):\n",
    "            amount2.append(j.text)\n",
    "            \n",
    "for item in products2:\n",
    "    for i in item.find_all('div', class_='imageWrapper'):\n",
    "        for j in i.find_all('div', class_='price'):\n",
    "            price2.append(j.text)   "
   ]
  },
  {
   "cell_type": "code",
   "execution_count": 9,
   "metadata": {},
   "outputs": [
    {
     "data": {
      "text/html": [
       "<div>\n",
       "<style scoped>\n",
       "    .dataframe tbody tr th:only-of-type {\n",
       "        vertical-align: middle;\n",
       "    }\n",
       "\n",
       "    .dataframe tbody tr th {\n",
       "        vertical-align: top;\n",
       "    }\n",
       "\n",
       "    .dataframe thead th {\n",
       "        text-align: right;\n",
       "    }\n",
       "</style>\n",
       "<table border=\"1\" class=\"dataframe\">\n",
       "  <thead>\n",
       "    <tr style=\"text-align: right;\">\n",
       "      <th></th>\n",
       "      <th>Product</th>\n",
       "      <th>Quantity</th>\n",
       "      <th>Price</th>\n",
       "    </tr>\n",
       "  </thead>\n",
       "  <tbody>\n",
       "    <tr>\n",
       "      <th>0</th>\n",
       "      <td>Fresh Soyabean Oil</td>\n",
       "      <td>5 ltr</td>\n",
       "      <td>৳ 555</td>\n",
       "    </tr>\n",
       "    <tr>\n",
       "      <th>1</th>\n",
       "      <td>Rupchanda Soyabean Oil</td>\n",
       "      <td>5 ltr</td>\n",
       "      <td>৳ 570</td>\n",
       "    </tr>\n",
       "    <tr>\n",
       "      <th>2</th>\n",
       "      <td>Rupchanda Soyabean Oil</td>\n",
       "      <td>2 ltr</td>\n",
       "      <td>৳ 234</td>\n",
       "    </tr>\n",
       "    <tr>\n",
       "      <th>3</th>\n",
       "      <td>Rupchanda Soyabean Oil (poly)</td>\n",
       "      <td>1 ltr</td>\n",
       "      <td>৳ 113</td>\n",
       "    </tr>\n",
       "    <tr>\n",
       "      <th>4</th>\n",
       "      <td>Fresh Soyabean Oil</td>\n",
       "      <td>2 ltr</td>\n",
       "      <td>৳ 228</td>\n",
       "    </tr>\n",
       "  </tbody>\n",
       "</table>\n",
       "</div>"
      ],
      "text/plain": [
       "                         Product Quantity  Price\n",
       "0             Fresh Soyabean Oil    5 ltr  ৳ 555\n",
       "1         Rupchanda Soyabean Oil    5 ltr  ৳ 570\n",
       "2         Rupchanda Soyabean Oil    2 ltr  ৳ 234\n",
       "3  Rupchanda Soyabean Oil (poly)    1 ltr  ৳ 113\n",
       "4             Fresh Soyabean Oil    2 ltr  ৳ 228"
      ]
     },
     "execution_count": 9,
     "metadata": {},
     "output_type": "execute_result"
    }
   ],
   "source": [
    "productlist2 = {'Product':product2, 'Quantity':amount2, 'Price':price2}\n",
    "df2 = pd.DataFrame(productlist2)\n",
    "df2.head()"
   ]
  },
  {
   "cell_type": "code",
   "execution_count": 10,
   "metadata": {},
   "outputs": [],
   "source": [
    "df2.to_csv(r'C:\\Users\\Arnob\\Desktop\\DataScience\\chaldal-web-scraping\\chaldal-oil.csv', index=False)"
   ]
  },
  {
   "cell_type": "markdown",
   "metadata": {},
   "source": [
    "# Dataframe for ghee"
   ]
  },
  {
   "cell_type": "code",
   "execution_count": 11,
   "metadata": {},
   "outputs": [],
   "source": [
    "baseurl3 = 'https://chaldal.com/ghee'\n",
    "r3 = requests.get(baseurl3)\n",
    "soup3 = bs(r3.content, 'lxml')\n",
    "products3 = soup3.find_all('div', class_='product')"
   ]
  },
  {
   "cell_type": "code",
   "execution_count": 12,
   "metadata": {},
   "outputs": [],
   "source": [
    "product3 = []\n",
    "amount3 = []\n",
    "price3 = []\n",
    "\n",
    "for item in products3:\n",
    "    for i in item.find_all('div', class_='imageWrapper'):\n",
    "        for j in i.find_all('div', class_='name'):\n",
    "            product3.append(j.text)\n",
    "            \n",
    "for item in products3:\n",
    "    for i in item.find_all('div', class_='imageWrapper'):\n",
    "        for j in i.find_all('div', class_='subText'):\n",
    "            amount3.append(j.text)\n",
    "            \n",
    "for item in products3:\n",
    "    for i in item.find_all('div', class_='imageWrapper'):\n",
    "        for j in i.find_all('div', class_='price'):\n",
    "            price3.append(j.text)           "
   ]
  },
  {
   "cell_type": "code",
   "execution_count": 13,
   "metadata": {},
   "outputs": [
    {
     "data": {
      "text/html": [
       "<div>\n",
       "<style scoped>\n",
       "    .dataframe tbody tr th:only-of-type {\n",
       "        vertical-align: middle;\n",
       "    }\n",
       "\n",
       "    .dataframe tbody tr th {\n",
       "        vertical-align: top;\n",
       "    }\n",
       "\n",
       "    .dataframe thead th {\n",
       "        text-align: right;\n",
       "    }\n",
       "</style>\n",
       "<table border=\"1\" class=\"dataframe\">\n",
       "  <thead>\n",
       "    <tr style=\"text-align: right;\">\n",
       "      <th></th>\n",
       "      <th>Product</th>\n",
       "      <th>Quantity</th>\n",
       "      <th>Price</th>\n",
       "    </tr>\n",
       "  </thead>\n",
       "  <tbody>\n",
       "    <tr>\n",
       "      <th>0</th>\n",
       "      <td>Aarong Dairy Pure Ghee</td>\n",
       "      <td>400 gm</td>\n",
       "      <td>৳ 520</td>\n",
       "    </tr>\n",
       "    <tr>\n",
       "      <th>1</th>\n",
       "      <td>Danish Premium Ghee</td>\n",
       "      <td>400 gm</td>\n",
       "      <td>৳ 525</td>\n",
       "    </tr>\n",
       "    <tr>\n",
       "      <th>2</th>\n",
       "      <td>SUN Premium Ghee</td>\n",
       "      <td>200 gm</td>\n",
       "      <td>৳ 260</td>\n",
       "    </tr>\n",
       "    <tr>\n",
       "      <th>3</th>\n",
       "      <td>Khaas Food Ghee</td>\n",
       "      <td>300 gm</td>\n",
       "      <td>৳ 480</td>\n",
       "    </tr>\n",
       "    <tr>\n",
       "      <th>4</th>\n",
       "      <td>Milk Vita Ghee</td>\n",
       "      <td>400 gm</td>\n",
       "      <td>৳ 500</td>\n",
       "    </tr>\n",
       "  </tbody>\n",
       "</table>\n",
       "</div>"
      ],
      "text/plain": [
       "                  Product Quantity  Price\n",
       "0  Aarong Dairy Pure Ghee   400 gm  ৳ 520\n",
       "1     Danish Premium Ghee   400 gm  ৳ 525\n",
       "2        SUN Premium Ghee   200 gm  ৳ 260\n",
       "3         Khaas Food Ghee   300 gm  ৳ 480\n",
       "4          Milk Vita Ghee   400 gm  ৳ 500"
      ]
     },
     "execution_count": 13,
     "metadata": {},
     "output_type": "execute_result"
    }
   ],
   "source": [
    "productlist3 = {'Product':product3, 'Quantity':amount3, 'Price':price3}\n",
    "df3 = pd.DataFrame(productlist3)\n",
    "df3.head()"
   ]
  },
  {
   "cell_type": "code",
   "execution_count": 14,
   "metadata": {},
   "outputs": [],
   "source": [
    "df3.to_csv(r'C:\\Users\\Arnob\\Desktop\\DataScience\\chaldal-web-scraping\\chaldal-ghee.csv', index=False)"
   ]
  },
  {
   "cell_type": "markdown",
   "metadata": {},
   "source": [
    "# Dataframe for ready mixes"
   ]
  },
  {
   "cell_type": "code",
   "execution_count": 18,
   "metadata": {},
   "outputs": [],
   "source": [
    "baseurl4 = 'https://chaldal.com/ready-mix'\n",
    "r4 = requests.get(baseurl4)\n",
    "soup4 = bs(r4.content, 'lxml')\n",
    "products4 = soup4.find_all('div', class_='product')"
   ]
  },
  {
   "cell_type": "code",
   "execution_count": 19,
   "metadata": {},
   "outputs": [],
   "source": [
    "product4 = []\n",
    "amount4 = []\n",
    "price4 = []\n",
    "\n",
    "for item in products4:\n",
    "    for i in item.find_all('div', class_='imageWrapper'):\n",
    "        for j in i.find_all('div', class_='name'):\n",
    "            product4.append(j.text)\n",
    "            \n",
    "for item in products4:\n",
    "    for i in item.find_all('div', class_='imageWrapper'):\n",
    "        for j in i.find_all('div', class_='subText'):\n",
    "            amount4.append(j.text)\n",
    "            \n",
    "for item in products4:\n",
    "    for i in item.find_all('div', class_='imageWrapper'):\n",
    "        for j in i.find_all('div', class_='price'):\n",
    "            price4.append(j.text)      "
   ]
  },
  {
   "cell_type": "code",
   "execution_count": 20,
   "metadata": {},
   "outputs": [
    {
     "data": {
      "text/html": [
       "<div>\n",
       "<style scoped>\n",
       "    .dataframe tbody tr th:only-of-type {\n",
       "        vertical-align: middle;\n",
       "    }\n",
       "\n",
       "    .dataframe tbody tr th {\n",
       "        vertical-align: top;\n",
       "    }\n",
       "\n",
       "    .dataframe thead th {\n",
       "        text-align: right;\n",
       "    }\n",
       "</style>\n",
       "<table border=\"1\" class=\"dataframe\">\n",
       "  <thead>\n",
       "    <tr style=\"text-align: right;\">\n",
       "      <th></th>\n",
       "      <th>Product</th>\n",
       "      <th>Quantity</th>\n",
       "      <th>Price</th>\n",
       "    </tr>\n",
       "  </thead>\n",
       "  <tbody>\n",
       "    <tr>\n",
       "      <th>0</th>\n",
       "      <td>Radhuni Biryani Masala</td>\n",
       "      <td>40 gm</td>\n",
       "      <td>৳ 55</td>\n",
       "    </tr>\n",
       "    <tr>\n",
       "      <th>1</th>\n",
       "      <td>Radhuni Chicken Masala</td>\n",
       "      <td>20 gm</td>\n",
       "      <td>৳ 15</td>\n",
       "    </tr>\n",
       "    <tr>\n",
       "      <th>2</th>\n",
       "      <td>Radhuni Chatpoti Masala</td>\n",
       "      <td>50 gm</td>\n",
       "      <td>৳ 40</td>\n",
       "    </tr>\n",
       "    <tr>\n",
       "      <th>3</th>\n",
       "      <td>Radhuni Firni Mix</td>\n",
       "      <td>150 gm</td>\n",
       "      <td>৳ 40</td>\n",
       "    </tr>\n",
       "    <tr>\n",
       "      <th>4</th>\n",
       "      <td>Radhuni Haleem Mix</td>\n",
       "      <td>200 gm</td>\n",
       "      <td>৳ 45</td>\n",
       "    </tr>\n",
       "  </tbody>\n",
       "</table>\n",
       "</div>"
      ],
      "text/plain": [
       "                   Product Quantity Price\n",
       "0   Radhuni Biryani Masala    40 gm  ৳ 55\n",
       "1   Radhuni Chicken Masala    20 gm  ৳ 15\n",
       "2  Radhuni Chatpoti Masala    50 gm  ৳ 40\n",
       "3        Radhuni Firni Mix   150 gm  ৳ 40\n",
       "4       Radhuni Haleem Mix   200 gm  ৳ 45"
      ]
     },
     "execution_count": 20,
     "metadata": {},
     "output_type": "execute_result"
    }
   ],
   "source": [
    "productlist4 = {'Product':product4, 'Quantity':amount4, 'Price':price4}\n",
    "df4 = pd.DataFrame(productlist4)\n",
    "df4.head()"
   ]
  },
  {
   "cell_type": "code",
   "execution_count": 21,
   "metadata": {},
   "outputs": [],
   "source": [
    "df4.to_csv(r'C:\\Users\\Arnob\\Desktop\\DataScience\\chaldal-web-scraping\\chaldal-coffee.csv', index=False)"
   ]
  },
  {
   "cell_type": "markdown",
   "metadata": {},
   "source": [
    "# Dataframe for salt & sugar"
   ]
  },
  {
   "cell_type": "code",
   "execution_count": 22,
   "metadata": {},
   "outputs": [],
   "source": [
    "baseurl5 = 'https://chaldal.com/salt-sugar'\n",
    "r5 = requests.get(baseurl5)\n",
    "soup5 = bs(r5.content, 'lxml')\n",
    "products5 = soup5.find_all('div', class_='product')"
   ]
  },
  {
   "cell_type": "code",
   "execution_count": 23,
   "metadata": {},
   "outputs": [],
   "source": [
    "product5 = []\n",
    "amount5 = []\n",
    "price5 = []\n",
    "\n",
    "for item in products5:\n",
    "    for i in item.find_all('div', class_='imageWrapper'):\n",
    "        for j in i.find_all('div', class_='name'):\n",
    "            product5.append(j.text)\n",
    "            \n",
    "for item in products5:\n",
    "    for i in item.find_all('div', class_='imageWrapper'):\n",
    "        for j in i.find_all('div', class_='subText'):\n",
    "            amount5.append(j.text)\n",
    "            \n",
    "for item in products5:\n",
    "    for i in item.find_all('div', class_='imageWrapper'):\n",
    "        for j in i.find_all('div', class_='price'):\n",
    "            price5.append(j.text)          "
   ]
  },
  {
   "cell_type": "code",
   "execution_count": 24,
   "metadata": {},
   "outputs": [
    {
     "data": {
      "text/html": [
       "<div>\n",
       "<style scoped>\n",
       "    .dataframe tbody tr th:only-of-type {\n",
       "        vertical-align: middle;\n",
       "    }\n",
       "\n",
       "    .dataframe tbody tr th {\n",
       "        vertical-align: top;\n",
       "    }\n",
       "\n",
       "    .dataframe thead th {\n",
       "        text-align: right;\n",
       "    }\n",
       "</style>\n",
       "<table border=\"1\" class=\"dataframe\">\n",
       "  <thead>\n",
       "    <tr style=\"text-align: right;\">\n",
       "      <th></th>\n",
       "      <th>Product</th>\n",
       "      <th>Quantity</th>\n",
       "      <th>Price</th>\n",
       "    </tr>\n",
       "  </thead>\n",
       "  <tbody>\n",
       "    <tr>\n",
       "      <th>0</th>\n",
       "      <td>Fresh Refined Sugar</td>\n",
       "      <td>1 kg</td>\n",
       "      <td>৳ 70</td>\n",
       "    </tr>\n",
       "    <tr>\n",
       "      <th>1</th>\n",
       "      <td>Akher Chini (Deshi Sugar)</td>\n",
       "      <td>1 kg</td>\n",
       "      <td>৳ 70</td>\n",
       "    </tr>\n",
       "    <tr>\n",
       "      <th>2</th>\n",
       "      <td>ACI Pure Salt</td>\n",
       "      <td>1 kg</td>\n",
       "      <td>৳ 35</td>\n",
       "    </tr>\n",
       "    <tr>\n",
       "      <th>3</th>\n",
       "      <td>Fresh Super Premium (Vacuum) Salt</td>\n",
       "      <td>1 kg</td>\n",
       "      <td>৳ 35</td>\n",
       "    </tr>\n",
       "    <tr>\n",
       "      <th>4</th>\n",
       "      <td>Fresh Refined Sugar</td>\n",
       "      <td>500 gm</td>\n",
       "      <td>৳ 36</td>\n",
       "    </tr>\n",
       "  </tbody>\n",
       "</table>\n",
       "</div>"
      ],
      "text/plain": [
       "                             Product Quantity Price\n",
       "0                Fresh Refined Sugar     1 kg  ৳ 70\n",
       "1          Akher Chini (Deshi Sugar)     1 kg  ৳ 70\n",
       "2                      ACI Pure Salt     1 kg  ৳ 35\n",
       "3  Fresh Super Premium (Vacuum) Salt     1 kg  ৳ 35\n",
       "4                Fresh Refined Sugar   500 gm  ৳ 36"
      ]
     },
     "execution_count": 24,
     "metadata": {},
     "output_type": "execute_result"
    }
   ],
   "source": [
    "productlist5 = {'Product':product5, 'Quantity':amount5, 'Price':price5}\n",
    "df5 = pd.DataFrame(productlist5)\n",
    "df5.head()"
   ]
  },
  {
   "cell_type": "code",
   "execution_count": 25,
   "metadata": {},
   "outputs": [],
   "source": [
    "df5.to_csv(r'C:\\Users\\Arnob\\Desktop\\DataScience\\chaldal-web-scraping\\chaldal-salt-sugar.csv', index=False)"
   ]
  },
  {
   "cell_type": "markdown",
   "metadata": {},
   "source": [
    "# Dataframe for shemai"
   ]
  },
  {
   "cell_type": "code",
   "execution_count": 26,
   "metadata": {},
   "outputs": [],
   "source": [
    "baseurl6 = 'https://chaldal.com/shemai-suji'\n",
    "r6 = requests.get(baseurl6)\n",
    "soup6 = bs(r6.content, 'lxml')\n",
    "products6 = soup6.find_all('div', class_='product')"
   ]
  },
  {
   "cell_type": "code",
   "execution_count": 27,
   "metadata": {},
   "outputs": [],
   "source": [
    "product6 = []\n",
    "amount6 = []\n",
    "price6 = []\n",
    "\n",
    "for item in products6:\n",
    "    for i in item.find_all('div', class_='imageWrapper'):\n",
    "        for j in i.find_all('div', class_='name'):\n",
    "            product6.append(j.text)\n",
    "            \n",
    "for item in products6:\n",
    "    for i in item.find_all('div', class_='imageWrapper'):\n",
    "        for j in i.find_all('div', class_='subText'):\n",
    "            amount6.append(j.text)\n",
    "            \n",
    "for item in products6:\n",
    "    for i in item.find_all('div', class_='imageWrapper'):\n",
    "        for j in i.find_all('div', class_='price'):\n",
    "            price6.append(j.text)          "
   ]
  },
  {
   "cell_type": "code",
   "execution_count": 28,
   "metadata": {},
   "outputs": [
    {
     "data": {
      "text/html": [
       "<div>\n",
       "<style scoped>\n",
       "    .dataframe tbody tr th:only-of-type {\n",
       "        vertical-align: middle;\n",
       "    }\n",
       "\n",
       "    .dataframe tbody tr th {\n",
       "        vertical-align: top;\n",
       "    }\n",
       "\n",
       "    .dataframe thead th {\n",
       "        text-align: right;\n",
       "    }\n",
       "</style>\n",
       "<table border=\"1\" class=\"dataframe\">\n",
       "  <thead>\n",
       "    <tr style=\"text-align: right;\">\n",
       "      <th></th>\n",
       "      <th>Product</th>\n",
       "      <th>Quantity</th>\n",
       "      <th>Price</th>\n",
       "    </tr>\n",
       "  </thead>\n",
       "  <tbody>\n",
       "    <tr>\n",
       "      <th>0</th>\n",
       "      <td>Cock Vermicelli (Shemai)</td>\n",
       "      <td>200 gm</td>\n",
       "      <td>৳ 35</td>\n",
       "    </tr>\n",
       "    <tr>\n",
       "      <th>1</th>\n",
       "      <td>Ifad Suji</td>\n",
       "      <td>500 gm</td>\n",
       "      <td>৳ 30</td>\n",
       "    </tr>\n",
       "    <tr>\n",
       "      <th>2</th>\n",
       "      <td>Kolson Laccha Shemai</td>\n",
       "      <td>200 gm</td>\n",
       "      <td>৳ 35</td>\n",
       "    </tr>\n",
       "    <tr>\n",
       "      <th>3</th>\n",
       "      <td>ACI Pure Suji</td>\n",
       "      <td>500 gm</td>\n",
       "      <td>৳ 30</td>\n",
       "    </tr>\n",
       "    <tr>\n",
       "      <th>4</th>\n",
       "      <td>Teer Semolina Suji</td>\n",
       "      <td>500 gm</td>\n",
       "      <td>৳ 30</td>\n",
       "    </tr>\n",
       "  </tbody>\n",
       "</table>\n",
       "</div>"
      ],
      "text/plain": [
       "                    Product Quantity Price\n",
       "0  Cock Vermicelli (Shemai)   200 gm  ৳ 35\n",
       "1                 Ifad Suji   500 gm  ৳ 30\n",
       "2      Kolson Laccha Shemai   200 gm  ৳ 35\n",
       "3             ACI Pure Suji   500 gm  ৳ 30\n",
       "4        Teer Semolina Suji   500 gm  ৳ 30"
      ]
     },
     "execution_count": 28,
     "metadata": {},
     "output_type": "execute_result"
    }
   ],
   "source": [
    "productlist6 = {'Product':product6, 'Quantity':amount6, 'Price':price6}\n",
    "df6 = pd.DataFrame(productlist6)\n",
    "df6.head()"
   ]
  },
  {
   "cell_type": "code",
   "execution_count": 29,
   "metadata": {},
   "outputs": [],
   "source": [
    "df6.to_csv(r'C:\\Users\\Arnob\\Desktop\\DataScience\\chaldal-web-scraping\\chaldal-shemai.csv', index=False)"
   ]
  },
  {
   "cell_type": "code",
   "execution_count": null,
   "metadata": {},
   "outputs": [],
   "source": []
  }
 ],
 "metadata": {
  "kernelspec": {
   "display_name": "Python 3",
   "language": "python",
   "name": "python3"
  },
  "language_info": {
   "codemirror_mode": {
    "name": "ipython",
    "version": 3
   },
   "file_extension": ".py",
   "mimetype": "text/x-python",
   "name": "python",
   "nbconvert_exporter": "python",
   "pygments_lexer": "ipython3",
   "version": "3.7.6"
  }
 },
 "nbformat": 4,
 "nbformat_minor": 4
}
