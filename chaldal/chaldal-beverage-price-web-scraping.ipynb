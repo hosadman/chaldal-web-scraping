{
 "cells": [
  {
   "cell_type": "code",
   "execution_count": 3,
   "metadata": {},
   "outputs": [],
   "source": [
    "import requests\n",
    "from bs4 import BeautifulSoup as bs\n",
    "import pandas as pd"
   ]
  },
  {
   "cell_type": "markdown",
   "metadata": {},
   "source": [
    "# Dataframe for soft drinks"
   ]
  },
  {
   "cell_type": "code",
   "execution_count": 2,
   "metadata": {},
   "outputs": [],
   "source": [
    "baseurl = 'https://chaldal.com/soft-drinks'"
   ]
  },
  {
   "cell_type": "code",
   "execution_count": 3,
   "metadata": {},
   "outputs": [],
   "source": [
    "headers = {'User-Agent': 'Mozilla/5.0 (Windows NT 10.0; Win64; x64; rv:82.0) Gecko/20100101 Firefox/82.0'}"
   ]
  },
  {
   "cell_type": "code",
   "execution_count": 4,
   "metadata": {},
   "outputs": [],
   "source": [
    "r = requests.get(baseurl)\n",
    "soup = bs(r.content, 'lxml')"
   ]
  },
  {
   "cell_type": "code",
   "execution_count": 5,
   "metadata": {},
   "outputs": [],
   "source": [
    "products = soup.find_all('div', class_='product')"
   ]
  },
  {
   "cell_type": "code",
   "execution_count": 6,
   "metadata": {},
   "outputs": [],
   "source": [
    "product = []\n",
    "amount = []\n",
    "price = []\n",
    "\n",
    "for item in products:\n",
    "    for i in item.find_all('div', class_='imageWrapper'):\n",
    "        for j in i.find_all('div', class_='name'):\n",
    "            product.append(j.text)"
   ]
  },
  {
   "cell_type": "code",
   "execution_count": 7,
   "metadata": {},
   "outputs": [],
   "source": [
    "for item in products:\n",
    "    for i in item.find_all('div', class_='imageWrapper'):\n",
    "        for j in i.find_all('div', class_='subText'):\n",
    "            amount.append(j.text)"
   ]
  },
  {
   "cell_type": "code",
   "execution_count": 8,
   "metadata": {},
   "outputs": [],
   "source": [
    "for item in products:\n",
    "    for i in item.find_all('div', class_='imageWrapper'):\n",
    "        for j in i.find_all('div', class_='price'):\n",
    "            price.append(j.text)"
   ]
  },
  {
   "cell_type": "code",
   "execution_count": 9,
   "metadata": {},
   "outputs": [],
   "source": [
    "productlist = {'Product':product, 'Quantity':amount, 'Price':price}"
   ]
  },
  {
   "cell_type": "code",
   "execution_count": 10,
   "metadata": {},
   "outputs": [
    {
     "data": {
      "text/html": [
       "<div>\n",
       "<style scoped>\n",
       "    .dataframe tbody tr th:only-of-type {\n",
       "        vertical-align: middle;\n",
       "    }\n",
       "\n",
       "    .dataframe tbody tr th {\n",
       "        vertical-align: top;\n",
       "    }\n",
       "\n",
       "    .dataframe thead th {\n",
       "        text-align: right;\n",
       "    }\n",
       "</style>\n",
       "<table border=\"1\" class=\"dataframe\">\n",
       "  <thead>\n",
       "    <tr style=\"text-align: right;\">\n",
       "      <th></th>\n",
       "      <th>Product</th>\n",
       "      <th>Quantity</th>\n",
       "      <th>Price</th>\n",
       "    </tr>\n",
       "  </thead>\n",
       "  <tbody>\n",
       "    <tr>\n",
       "      <th>0</th>\n",
       "      <td>Pepsi Diet Pet</td>\n",
       "      <td>500 ml</td>\n",
       "      <td>৳ 35</td>\n",
       "    </tr>\n",
       "    <tr>\n",
       "      <th>1</th>\n",
       "      <td>Coca-Cola</td>\n",
       "      <td>600 ml</td>\n",
       "      <td>৳ 40</td>\n",
       "    </tr>\n",
       "    <tr>\n",
       "      <th>2</th>\n",
       "      <td>Coca-Cola</td>\n",
       "      <td>1.25 ltr</td>\n",
       "      <td>৳ 70</td>\n",
       "    </tr>\n",
       "    <tr>\n",
       "      <th>3</th>\n",
       "      <td>Coke Light Can</td>\n",
       "      <td>250 ml</td>\n",
       "      <td>৳ 40</td>\n",
       "    </tr>\n",
       "    <tr>\n",
       "      <th>4</th>\n",
       "      <td>Coca-Cola Can</td>\n",
       "      <td>250 ml</td>\n",
       "      <td>৳ 40</td>\n",
       "    </tr>\n",
       "  </tbody>\n",
       "</table>\n",
       "</div>"
      ],
      "text/plain": [
       "          Product  Quantity Price\n",
       "0  Pepsi Diet Pet    500 ml  ৳ 35\n",
       "1       Coca-Cola    600 ml  ৳ 40\n",
       "2       Coca-Cola  1.25 ltr  ৳ 70\n",
       "3  Coke Light Can    250 ml  ৳ 40\n",
       "4   Coca-Cola Can    250 ml  ৳ 40"
      ]
     },
     "execution_count": 10,
     "metadata": {},
     "output_type": "execute_result"
    }
   ],
   "source": [
    "df = pd.DataFrame(productlist)\n",
    "df.head()"
   ]
  },
  {
   "cell_type": "code",
   "execution_count": 12,
   "metadata": {},
   "outputs": [],
   "source": [
    "df.to_csv(r'C:\\Users\\Arnob\\Desktop\\DataScience\\chaldal-web-scraping\\chaldal-soft-drinks.csv', index=False)"
   ]
  },
  {
   "cell_type": "markdown",
   "metadata": {},
   "source": [
    "# Dataframe for juices"
   ]
  },
  {
   "cell_type": "code",
   "execution_count": 1,
   "metadata": {},
   "outputs": [],
   "source": [
    "baseurl2 = 'https://chaldal.com/juice'"
   ]
  },
  {
   "cell_type": "code",
   "execution_count": 4,
   "metadata": {},
   "outputs": [],
   "source": [
    "r2 = requests.get(baseurl2)\n",
    "soup2 = bs(r2.content, 'lxml')"
   ]
  },
  {
   "cell_type": "code",
   "execution_count": 5,
   "metadata": {},
   "outputs": [],
   "source": [
    "products2 = soup2.find_all('div', class_='product')"
   ]
  },
  {
   "cell_type": "code",
   "execution_count": 6,
   "metadata": {},
   "outputs": [],
   "source": [
    "product2 = []\n",
    "amount2 = []\n",
    "price2 = []\n",
    "\n",
    "for item in products2:\n",
    "    for i in item.find_all('div', class_='imageWrapper'):\n",
    "        for j in i.find_all('div', class_='name'):\n",
    "            product2.append(j.text)"
   ]
  },
  {
   "cell_type": "code",
   "execution_count": 7,
   "metadata": {},
   "outputs": [],
   "source": [
    "for item in products2:\n",
    "    for i in item.find_all('div', class_='imageWrapper'):\n",
    "        for j in i.find_all('div', class_='subText'):\n",
    "            amount2.append(j.text)\n",
    "            \n",
    "for item in products2:\n",
    "    for i in item.find_all('div', class_='imageWrapper'):\n",
    "        for j in i.find_all('div', class_='price'):\n",
    "            price2.append(j.text)           "
   ]
  },
  {
   "cell_type": "code",
   "execution_count": 8,
   "metadata": {},
   "outputs": [
    {
     "data": {
      "text/html": [
       "<div>\n",
       "<style scoped>\n",
       "    .dataframe tbody tr th:only-of-type {\n",
       "        vertical-align: middle;\n",
       "    }\n",
       "\n",
       "    .dataframe tbody tr th {\n",
       "        vertical-align: top;\n",
       "    }\n",
       "\n",
       "    .dataframe thead th {\n",
       "        text-align: right;\n",
       "    }\n",
       "</style>\n",
       "<table border=\"1\" class=\"dataframe\">\n",
       "  <thead>\n",
       "    <tr style=\"text-align: right;\">\n",
       "      <th></th>\n",
       "      <th>Product</th>\n",
       "      <th>Quantity</th>\n",
       "      <th>Price</th>\n",
       "    </tr>\n",
       "  </thead>\n",
       "  <tbody>\n",
       "    <tr>\n",
       "      <th>0</th>\n",
       "      <td>Shezan Mango Juice</td>\n",
       "      <td>250 ml</td>\n",
       "      <td>৳ 20</td>\n",
       "    </tr>\n",
       "    <tr>\n",
       "      <th>1</th>\n",
       "      <td>Latina 100 % Juice (Apple)</td>\n",
       "      <td>1 ltr</td>\n",
       "      <td>৳ 200</td>\n",
       "    </tr>\n",
       "    <tr>\n",
       "      <th>2</th>\n",
       "      <td>Latina 100 % Juice (Orange)</td>\n",
       "      <td>1 ltr</td>\n",
       "      <td>৳ 200</td>\n",
       "    </tr>\n",
       "    <tr>\n",
       "      <th>3</th>\n",
       "      <td>Pran Drinko Pineapple Juice</td>\n",
       "      <td>250 ml</td>\n",
       "      <td>৳ 25</td>\n",
       "    </tr>\n",
       "    <tr>\n",
       "      <th>4</th>\n",
       "      <td>Amul Pinacolada Mocktail Can</td>\n",
       "      <td>200 ml</td>\n",
       "      <td>৳ 125</td>\n",
       "    </tr>\n",
       "  </tbody>\n",
       "</table>\n",
       "</div>"
      ],
      "text/plain": [
       "                        Product Quantity  Price\n",
       "0            Shezan Mango Juice   250 ml   ৳ 20\n",
       "1    Latina 100 % Juice (Apple)    1 ltr  ৳ 200\n",
       "2   Latina 100 % Juice (Orange)    1 ltr  ৳ 200\n",
       "3   Pran Drinko Pineapple Juice   250 ml   ৳ 25\n",
       "4  Amul Pinacolada Mocktail Can   200 ml  ৳ 125"
      ]
     },
     "execution_count": 8,
     "metadata": {},
     "output_type": "execute_result"
    }
   ],
   "source": [
    "productlist2 = {'Product':product2, 'Quantity':amount2, 'Price':price2}\n",
    "df2 = pd.DataFrame(productlist2)\n",
    "df2.head()"
   ]
  },
  {
   "cell_type": "code",
   "execution_count": 9,
   "metadata": {},
   "outputs": [],
   "source": [
    "df2.to_csv(r'C:\\Users\\Arnob\\Desktop\\DataScience\\chaldal-web-scraping\\chaldal-juice.csv', index=False)"
   ]
  },
  {
   "cell_type": "markdown",
   "metadata": {},
   "source": [
    "# Dataframe for tea"
   ]
  },
  {
   "cell_type": "code",
   "execution_count": 10,
   "metadata": {},
   "outputs": [],
   "source": [
    "baseurl3 = 'https://chaldal.com/tea-coffee'\n",
    "r3 = requests.get(baseurl3)\n",
    "soup3 = bs(r3.content, 'lxml')\n",
    "products3 = soup3.find_all('div', class_='product')"
   ]
  },
  {
   "cell_type": "code",
   "execution_count": 11,
   "metadata": {},
   "outputs": [],
   "source": [
    "product3 = []\n",
    "amount3 = []\n",
    "price3 = []\n",
    "\n",
    "for item in products3:\n",
    "    for i in item.find_all('div', class_='imageWrapper'):\n",
    "        for j in i.find_all('div', class_='name'):\n",
    "            product3.append(j.text)\n",
    "            \n",
    "for item in products3:\n",
    "    for i in item.find_all('div', class_='imageWrapper'):\n",
    "        for j in i.find_all('div', class_='subText'):\n",
    "            amount3.append(j.text)\n",
    "            \n",
    "for item in products3:\n",
    "    for i in item.find_all('div', class_='imageWrapper'):\n",
    "        for j in i.find_all('div', class_='price'):\n",
    "            price3.append(j.text)           "
   ]
  },
  {
   "cell_type": "code",
   "execution_count": 12,
   "metadata": {},
   "outputs": [
    {
     "data": {
      "text/html": [
       "<div>\n",
       "<style scoped>\n",
       "    .dataframe tbody tr th:only-of-type {\n",
       "        vertical-align: middle;\n",
       "    }\n",
       "\n",
       "    .dataframe tbody tr th {\n",
       "        vertical-align: top;\n",
       "    }\n",
       "\n",
       "    .dataframe thead th {\n",
       "        text-align: right;\n",
       "    }\n",
       "</style>\n",
       "<table border=\"1\" class=\"dataframe\">\n",
       "  <thead>\n",
       "    <tr style=\"text-align: right;\">\n",
       "      <th></th>\n",
       "      <th>Product</th>\n",
       "      <th>Quantity</th>\n",
       "      <th>Price</th>\n",
       "    </tr>\n",
       "  </thead>\n",
       "  <tbody>\n",
       "    <tr>\n",
       "      <th>0</th>\n",
       "      <td>Ispahani Mirzapore Best Leaf Tea</td>\n",
       "      <td>400 gm</td>\n",
       "      <td>৳ 210</td>\n",
       "    </tr>\n",
       "    <tr>\n",
       "      <th>1</th>\n",
       "      <td>Brooke Bond Taaza Black Tea (Jar Free) 400 gm*2</td>\n",
       "      <td></td>\n",
       "      <td>৳ 398</td>\n",
       "    </tr>\n",
       "    <tr>\n",
       "      <th>2</th>\n",
       "      <td>Brooke Bond Taaza Black Tea</td>\n",
       "      <td>400 gm</td>\n",
       "      <td>৳ 199</td>\n",
       "    </tr>\n",
       "    <tr>\n",
       "      <th>3</th>\n",
       "      <td>Ispahani Mirzapore Tea Bag</td>\n",
       "      <td>50 pcs</td>\n",
       "      <td>৳ 90</td>\n",
       "    </tr>\n",
       "    <tr>\n",
       "      <th>4</th>\n",
       "      <td>Ispahani Mirzapore Best Leaf Tea</td>\n",
       "      <td>200 gm</td>\n",
       "      <td>৳ 110</td>\n",
       "    </tr>\n",
       "  </tbody>\n",
       "</table>\n",
       "</div>"
      ],
      "text/plain": [
       "                                           Product Quantity  Price\n",
       "0                 Ispahani Mirzapore Best Leaf Tea   400 gm  ৳ 210\n",
       "1  Brooke Bond Taaza Black Tea (Jar Free) 400 gm*2           ৳ 398\n",
       "2                      Brooke Bond Taaza Black Tea   400 gm  ৳ 199\n",
       "3                       Ispahani Mirzapore Tea Bag   50 pcs   ৳ 90\n",
       "4                 Ispahani Mirzapore Best Leaf Tea   200 gm  ৳ 110"
      ]
     },
     "execution_count": 12,
     "metadata": {},
     "output_type": "execute_result"
    }
   ],
   "source": [
    "productlist3 = {'Product':product3, 'Quantity':amount3, 'Price':price3}\n",
    "df3 = pd.DataFrame(productlist3)\n",
    "df3.head()"
   ]
  },
  {
   "cell_type": "code",
   "execution_count": 13,
   "metadata": {},
   "outputs": [],
   "source": [
    "df3.to_csv(r'C:\\Users\\Arnob\\Desktop\\DataScience\\chaldal-web-scraping\\chaldal-tea.csv', index=False)"
   ]
  },
  {
   "cell_type": "markdown",
   "metadata": {},
   "source": [
    "# Dataframe for coffee"
   ]
  },
  {
   "cell_type": "code",
   "execution_count": 14,
   "metadata": {},
   "outputs": [],
   "source": [
    "baseurl4 = 'https://chaldal.com/coffee-2'\n",
    "r4 = requests.get(baseurl4)\n",
    "soup4 = bs(r4.content, 'lxml')\n",
    "products4 = soup4.find_all('div', class_='product')"
   ]
  },
  {
   "cell_type": "code",
   "execution_count": 15,
   "metadata": {},
   "outputs": [],
   "source": [
    "product4 = []\n",
    "amount4 = []\n",
    "price4 = []\n",
    "\n",
    "for item in products4:\n",
    "    for i in item.find_all('div', class_='imageWrapper'):\n",
    "        for j in i.find_all('div', class_='name'):\n",
    "            product4.append(j.text)\n",
    "            \n",
    "for item in products4:\n",
    "    for i in item.find_all('div', class_='imageWrapper'):\n",
    "        for j in i.find_all('div', class_='subText'):\n",
    "            amount4.append(j.text)\n",
    "            \n",
    "for item in products4:\n",
    "    for i in item.find_all('div', class_='imageWrapper'):\n",
    "        for j in i.find_all('div', class_='price'):\n",
    "            price4.append(j.text)           "
   ]
  },
  {
   "cell_type": "code",
   "execution_count": 16,
   "metadata": {},
   "outputs": [
    {
     "data": {
      "text/html": [
       "<div>\n",
       "<style scoped>\n",
       "    .dataframe tbody tr th:only-of-type {\n",
       "        vertical-align: middle;\n",
       "    }\n",
       "\n",
       "    .dataframe tbody tr th {\n",
       "        vertical-align: top;\n",
       "    }\n",
       "\n",
       "    .dataframe thead th {\n",
       "        text-align: right;\n",
       "    }\n",
       "</style>\n",
       "<table border=\"1\" class=\"dataframe\">\n",
       "  <thead>\n",
       "    <tr style=\"text-align: right;\">\n",
       "      <th></th>\n",
       "      <th>Product</th>\n",
       "      <th>Quantity</th>\n",
       "      <th>Price</th>\n",
       "    </tr>\n",
       "  </thead>\n",
       "  <tbody>\n",
       "    <tr>\n",
       "      <th>0</th>\n",
       "      <td>Tora Bika Cappuccino (25 gm*6)</td>\n",
       "      <td>6 pcs</td>\n",
       "      <td>৳ 150</td>\n",
       "    </tr>\n",
       "    <tr>\n",
       "      <th>1</th>\n",
       "      <td>Nestlé Nescafé Classic Instant Coffee Jar</td>\n",
       "      <td>50 gm</td>\n",
       "      <td>৳ 165</td>\n",
       "    </tr>\n",
       "    <tr>\n",
       "      <th>2</th>\n",
       "      <td>Nestlé NESCAFE 3 in 1 Coffee Mix (15 gm*12)</td>\n",
       "      <td>12 pcs</td>\n",
       "      <td>৳ 120</td>\n",
       "    </tr>\n",
       "    <tr>\n",
       "      <th>3</th>\n",
       "      <td>Nestlé Nescafé Classic Instant Coffee Jar</td>\n",
       "      <td>200 gm</td>\n",
       "      <td>৳ 495</td>\n",
       "    </tr>\n",
       "    <tr>\n",
       "      <th>4</th>\n",
       "      <td>Nestlé Nescafe Classic Pouch Pack (Tin Contain...</td>\n",
       "      <td>200 gm</td>\n",
       "      <td>৳ 350</td>\n",
       "    </tr>\n",
       "  </tbody>\n",
       "</table>\n",
       "</div>"
      ],
      "text/plain": [
       "                                             Product Quantity  Price\n",
       "0                     Tora Bika Cappuccino (25 gm*6)    6 pcs  ৳ 150\n",
       "1          Nestlé Nescafé Classic Instant Coffee Jar    50 gm  ৳ 165\n",
       "2        Nestlé NESCAFE 3 in 1 Coffee Mix (15 gm*12)   12 pcs  ৳ 120\n",
       "3          Nestlé Nescafé Classic Instant Coffee Jar   200 gm  ৳ 495\n",
       "4  Nestlé Nescafe Classic Pouch Pack (Tin Contain...   200 gm  ৳ 350"
      ]
     },
     "execution_count": 16,
     "metadata": {},
     "output_type": "execute_result"
    }
   ],
   "source": [
    "productlist4 = {'Product':product4, 'Quantity':amount4, 'Price':price4}\n",
    "df4 = pd.DataFrame(productlist4)\n",
    "df4.head()"
   ]
  },
  {
   "cell_type": "code",
   "execution_count": 17,
   "metadata": {},
   "outputs": [],
   "source": [
    "df4.to_csv(r'C:\\Users\\Arnob\\Desktop\\DataScience\\chaldal-web-scraping\\chaldal-coffee.csv', index=False)"
   ]
  },
  {
   "cell_type": "markdown",
   "metadata": {},
   "source": [
    "# Dataframe for water"
   ]
  },
  {
   "cell_type": "code",
   "execution_count": 21,
   "metadata": {},
   "outputs": [],
   "source": [
    "baseurl5 = 'https://chaldal.com/water'\n",
    "r5 = requests.get(baseurl5)\n",
    "soup5 = bs(r5.content, 'lxml')\n",
    "products5 = soup5.find_all('div', class_='product')"
   ]
  },
  {
   "cell_type": "code",
   "execution_count": 22,
   "metadata": {},
   "outputs": [],
   "source": [
    "product5 = []\n",
    "amount5 = []\n",
    "price5 = []\n",
    "\n",
    "for item in products5:\n",
    "    for i in item.find_all('div', class_='imageWrapper'):\n",
    "        for j in i.find_all('div', class_='name'):\n",
    "            product5.append(j.text)\n",
    "            \n",
    "for item in products5:\n",
    "    for i in item.find_all('div', class_='imageWrapper'):\n",
    "        for j in i.find_all('div', class_='subText'):\n",
    "            amount5.append(j.text)\n",
    "            \n",
    "for item in products5:\n",
    "    for i in item.find_all('div', class_='imageWrapper'):\n",
    "        for j in i.find_all('div', class_='price'):\n",
    "            price5.append(j.text)          "
   ]
  },
  {
   "cell_type": "code",
   "execution_count": 23,
   "metadata": {},
   "outputs": [
    {
     "data": {
      "text/html": [
       "<div>\n",
       "<style scoped>\n",
       "    .dataframe tbody tr th:only-of-type {\n",
       "        vertical-align: middle;\n",
       "    }\n",
       "\n",
       "    .dataframe tbody tr th {\n",
       "        vertical-align: top;\n",
       "    }\n",
       "\n",
       "    .dataframe thead th {\n",
       "        text-align: right;\n",
       "    }\n",
       "</style>\n",
       "<table border=\"1\" class=\"dataframe\">\n",
       "  <thead>\n",
       "    <tr style=\"text-align: right;\">\n",
       "      <th></th>\n",
       "      <th>Product</th>\n",
       "      <th>Quantity</th>\n",
       "      <th>Price</th>\n",
       "    </tr>\n",
       "  </thead>\n",
       "  <tbody>\n",
       "    <tr>\n",
       "      <th>0</th>\n",
       "      <td>Super Fresh Drinking Water</td>\n",
       "      <td>2 ltr</td>\n",
       "      <td>৳ 30</td>\n",
       "    </tr>\n",
       "    <tr>\n",
       "      <th>1</th>\n",
       "      <td>Mum Drinking Water</td>\n",
       "      <td>2 ltr</td>\n",
       "      <td>৳ 30</td>\n",
       "    </tr>\n",
       "    <tr>\n",
       "      <th>2</th>\n",
       "      <td>Mum Drinking Water</td>\n",
       "      <td>5 ltr</td>\n",
       "      <td>৳ 75</td>\n",
       "    </tr>\n",
       "    <tr>\n",
       "      <th>3</th>\n",
       "      <td>Aquafina Drinking Water</td>\n",
       "      <td>1.5 ltr</td>\n",
       "      <td>৳ 25</td>\n",
       "    </tr>\n",
       "    <tr>\n",
       "      <th>4</th>\n",
       "      <td>Pureit Classic Germ Kill Kit</td>\n",
       "      <td>3000 ltr</td>\n",
       "      <td>৳ 1,200</td>\n",
       "    </tr>\n",
       "  </tbody>\n",
       "</table>\n",
       "</div>"
      ],
      "text/plain": [
       "                        Product  Quantity    Price\n",
       "0    Super Fresh Drinking Water     2 ltr     ৳ 30\n",
       "1            Mum Drinking Water     2 ltr     ৳ 30\n",
       "2            Mum Drinking Water     5 ltr     ৳ 75\n",
       "3       Aquafina Drinking Water   1.5 ltr     ৳ 25\n",
       "4  Pureit Classic Germ Kill Kit  3000 ltr  ৳ 1,200"
      ]
     },
     "execution_count": 23,
     "metadata": {},
     "output_type": "execute_result"
    }
   ],
   "source": [
    "productlist5 = {'Product':product5, 'Quantity':amount5, 'Price':price5}\n",
    "df5 = pd.DataFrame(productlist5)\n",
    "df5.head()"
   ]
  },
  {
   "cell_type": "code",
   "execution_count": 24,
   "metadata": {},
   "outputs": [],
   "source": [
    "df5.to_csv(r'C:\\Users\\Arnob\\Desktop\\DataScience\\chaldal-web-scraping\\chaldal-water.csv', index=False)"
   ]
  },
  {
   "cell_type": "markdown",
   "metadata": {},
   "source": [
    "# Dataframe for syrups & powder drinks"
   ]
  },
  {
   "cell_type": "code",
   "execution_count": 25,
   "metadata": {},
   "outputs": [],
   "source": [
    "baseurl6 = 'https://chaldal.com/powder-mixes'\n",
    "r6 = requests.get(baseurl6)\n",
    "soup6 = bs(r6.content, 'lxml')\n",
    "products6 = soup6.find_all('div', class_='product')"
   ]
  },
  {
   "cell_type": "code",
   "execution_count": 26,
   "metadata": {},
   "outputs": [],
   "source": [
    "product6 = []\n",
    "amount6 = []\n",
    "price6 = []\n",
    "\n",
    "for item in products6:\n",
    "    for i in item.find_all('div', class_='imageWrapper'):\n",
    "        for j in i.find_all('div', class_='name'):\n",
    "            product6.append(j.text)\n",
    "            \n",
    "for item in products6:\n",
    "    for i in item.find_all('div', class_='imageWrapper'):\n",
    "        for j in i.find_all('div', class_='subText'):\n",
    "            amount6.append(j.text)\n",
    "            \n",
    "for item in products6:\n",
    "    for i in item.find_all('div', class_='imageWrapper'):\n",
    "        for j in i.find_all('div', class_='price'):\n",
    "            price6.append(j.text)          "
   ]
  },
  {
   "cell_type": "code",
   "execution_count": 27,
   "metadata": {},
   "outputs": [
    {
     "data": {
      "text/html": [
       "<div>\n",
       "<style scoped>\n",
       "    .dataframe tbody tr th:only-of-type {\n",
       "        vertical-align: middle;\n",
       "    }\n",
       "\n",
       "    .dataframe tbody tr th {\n",
       "        vertical-align: top;\n",
       "    }\n",
       "\n",
       "    .dataframe thead th {\n",
       "        text-align: right;\n",
       "    }\n",
       "</style>\n",
       "<table border=\"1\" class=\"dataframe\">\n",
       "  <thead>\n",
       "    <tr style=\"text-align: right;\">\n",
       "      <th></th>\n",
       "      <th>Product</th>\n",
       "      <th>Quantity</th>\n",
       "      <th>Price</th>\n",
       "    </tr>\n",
       "  </thead>\n",
       "  <tbody>\n",
       "    <tr>\n",
       "      <th>0</th>\n",
       "      <td>Ovaltine Malted Chocolate Drink Jar</td>\n",
       "      <td>400 gm</td>\n",
       "      <td>৳ 395</td>\n",
       "    </tr>\n",
       "    <tr>\n",
       "      <th>1</th>\n",
       "      <td>Tang Mango Powder (Buy 1 Get 1)</td>\n",
       "      <td>500 gm</td>\n",
       "      <td>৳ 315</td>\n",
       "    </tr>\n",
       "    <tr>\n",
       "      <th>2</th>\n",
       "      <td>Chocolate Horlicks Jar</td>\n",
       "      <td>500 gm</td>\n",
       "      <td>৳ 350</td>\n",
       "    </tr>\n",
       "    <tr>\n",
       "      <th>3</th>\n",
       "      <td>Horlicks Standard Jar</td>\n",
       "      <td>1000 gm</td>\n",
       "      <td>৳ 645</td>\n",
       "    </tr>\n",
       "    <tr>\n",
       "      <th>4</th>\n",
       "      <td>Horlicks Standard Jar</td>\n",
       "      <td>250 gm</td>\n",
       "      <td>৳ 190</td>\n",
       "    </tr>\n",
       "  </tbody>\n",
       "</table>\n",
       "</div>"
      ],
      "text/plain": [
       "                               Product Quantity  Price\n",
       "0  Ovaltine Malted Chocolate Drink Jar   400 gm  ৳ 395\n",
       "1      Tang Mango Powder (Buy 1 Get 1)   500 gm  ৳ 315\n",
       "2               Chocolate Horlicks Jar   500 gm  ৳ 350\n",
       "3                Horlicks Standard Jar  1000 gm  ৳ 645\n",
       "4                Horlicks Standard Jar   250 gm  ৳ 190"
      ]
     },
     "execution_count": 27,
     "metadata": {},
     "output_type": "execute_result"
    }
   ],
   "source": [
    "productlist6 = {'Product':product6, 'Quantity':amount6, 'Price':price6}\n",
    "df6 = pd.DataFrame(productlist6)\n",
    "df6.head()"
   ]
  },
  {
   "cell_type": "code",
   "execution_count": 28,
   "metadata": {},
   "outputs": [],
   "source": [
    "df6.to_csv(r'C:\\Users\\Arnob\\Desktop\\DataScience\\chaldal-web-scraping\\chaldal-powder-drinks.csv', index=False)"
   ]
  },
  {
   "cell_type": "code",
   "execution_count": null,
   "metadata": {},
   "outputs": [],
   "source": []
  }
 ],
 "metadata": {
  "kernelspec": {
   "display_name": "Python 3",
   "language": "python",
   "name": "python3"
  },
  "language_info": {
   "codemirror_mode": {
    "name": "ipython",
    "version": 3
   },
   "file_extension": ".py",
   "mimetype": "text/x-python",
   "name": "python",
   "nbconvert_exporter": "python",
   "pygments_lexer": "ipython3",
   "version": "3.7.6"
  }
 },
 "nbformat": 4,
 "nbformat_minor": 4
}
