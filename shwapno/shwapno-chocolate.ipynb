{
 "cells": [
  {
   "cell_type": "code",
   "execution_count": 13,
   "metadata": {},
   "outputs": [],
   "source": [
    "import requests\n",
    "from bs4 import BeautifulSoup as bs\n",
    "import pandas as pd"
   ]
  },
  {
   "cell_type": "code",
   "execution_count": 14,
   "metadata": {},
   "outputs": [],
   "source": [
    "baseurl = 'https://www.shwapno.com/categories/chocolates--candies/cid-CU00336780.aspx?PageNo=2'\n",
    "r = requests.get(baseurl)\n",
    "soup = bs(r.content, 'lxml')\n",
    "products = soup.find_all('div', class_='bucket full-height')"
   ]
  },
  {
   "cell_type": "code",
   "execution_count": 15,
   "metadata": {},
   "outputs": [],
   "source": [
    "product = []\n",
    "amount = []\n",
    "price = []\n",
    "\n",
    "for item in products:\n",
    "    for i in item.find_all('div', class_='bucket_left'):\n",
    "        for j in i.find_all('h4', class_='mtb-title'):\n",
    "            product.append(j.text)\n",
    "            \n",
    "for item in products:\n",
    "    for i in item.find_all('div', class_='bucket_left'):\n",
    "        for j in i.find_all('div', class_='mtb-desc'):\n",
    "            amount.append(j.text)\n",
    "            \n",
    "for item in products:\n",
    "    for i in item.find_all('div', class_='bucket_left'):\n",
    "        for j in i.find_all('span', class_='mtb-price'):\n",
    "            price.append(j.text)           "
   ]
  },
  {
   "cell_type": "code",
   "execution_count": 16,
   "metadata": {},
   "outputs": [
    {
     "data": {
      "text/html": [
       "<div>\n",
       "<style scoped>\n",
       "    .dataframe tbody tr th:only-of-type {\n",
       "        vertical-align: middle;\n",
       "    }\n",
       "\n",
       "    .dataframe tbody tr th {\n",
       "        vertical-align: top;\n",
       "    }\n",
       "\n",
       "    .dataframe thead th {\n",
       "        text-align: right;\n",
       "    }\n",
       "</style>\n",
       "<table border=\"1\" class=\"dataframe\">\n",
       "  <thead>\n",
       "    <tr style=\"text-align: right;\">\n",
       "      <th></th>\n",
       "      <th>Product</th>\n",
       "      <th>Quantity</th>\n",
       "      <th>Price</th>\n",
       "    </tr>\n",
       "  </thead>\n",
       "  <tbody>\n",
       "  </tbody>\n",
       "</table>\n",
       "</div>"
      ],
      "text/plain": [
       "Empty DataFrame\n",
       "Columns: [Product, Quantity, Price]\n",
       "Index: []"
      ]
     },
     "execution_count": 16,
     "metadata": {},
     "output_type": "execute_result"
    }
   ],
   "source": [
    "productlist = {'Product':product, 'Quantity':amount, 'Price':price}\n",
    "df = pd.DataFrame(productlist)\n",
    "df.head()"
   ]
  },
  {
   "cell_type": "code",
   "execution_count": null,
   "metadata": {},
   "outputs": [],
   "source": []
  }
 ],
 "metadata": {
  "kernelspec": {
   "display_name": "Python 3",
   "language": "python",
   "name": "python3"
  },
  "language_info": {
   "codemirror_mode": {
    "name": "ipython",
    "version": 3
   },
   "file_extension": ".py",
   "mimetype": "text/x-python",
   "name": "python",
   "nbconvert_exporter": "python",
   "pygments_lexer": "ipython3",
   "version": "3.7.6"
  }
 },
 "nbformat": 4,
 "nbformat_minor": 4
}
