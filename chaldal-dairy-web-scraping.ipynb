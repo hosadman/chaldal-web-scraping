{
 "cells": [
  {
   "cell_type": "code",
   "execution_count": 1,
   "metadata": {},
   "outputs": [],
   "source": [
    "import requests\n",
    "from bs4 import BeautifulSoup as bs\n",
    "import pandas as pd"
   ]
  },
  {
   "cell_type": "markdown",
   "metadata": {},
   "source": [
    "# Dataframe for milk"
   ]
  },
  {
   "cell_type": "code",
   "execution_count": 2,
   "metadata": {},
   "outputs": [],
   "source": [
    "baseurl = 'https://chaldal.com/liquid-uht-milk'\n",
    "r = requests.get(baseurl)\n",
    "soup = bs(r.content, 'lxml')\n",
    "products = soup.find_all('div', class_='product')"
   ]
  },
  {
   "cell_type": "code",
   "execution_count": 3,
   "metadata": {},
   "outputs": [],
   "source": [
    "product = []\n",
    "amount = []\n",
    "price = []\n",
    "\n",
    "for item in products:\n",
    "    for i in item.find_all('div', class_='imageWrapper'):\n",
    "        for j in i.find_all('div', class_='name'):\n",
    "            product.append(j.text)\n",
    "            \n",
    "for item in products:\n",
    "    for i in item.find_all('div', class_='imageWrapper'):\n",
    "        for j in i.find_all('div', class_='subText'):\n",
    "            amount.append(j.text)\n",
    "            \n",
    "for item in products:\n",
    "    for i in item.find_all('div', class_='imageWrapper'):\n",
    "        for j in i.find_all('div', class_='price'):\n",
    "            price.append(j.text)           "
   ]
  },
  {
   "cell_type": "code",
   "execution_count": 4,
   "metadata": {},
   "outputs": [
    {
     "data": {
      "text/html": [
       "<div>\n",
       "<style scoped>\n",
       "    .dataframe tbody tr th:only-of-type {\n",
       "        vertical-align: middle;\n",
       "    }\n",
       "\n",
       "    .dataframe tbody tr th {\n",
       "        vertical-align: top;\n",
       "    }\n",
       "\n",
       "    .dataframe thead th {\n",
       "        text-align: right;\n",
       "    }\n",
       "</style>\n",
       "<table border=\"1\" class=\"dataframe\">\n",
       "  <thead>\n",
       "    <tr style=\"text-align: right;\">\n",
       "      <th></th>\n",
       "      <th>Product</th>\n",
       "      <th>Quantity</th>\n",
       "      <th>Price</th>\n",
       "    </tr>\n",
       "  </thead>\n",
       "  <tbody>\n",
       "    <tr>\n",
       "      <th>0</th>\n",
       "      <td>Milk Vita Liquid Milk</td>\n",
       "      <td>1 ltr</td>\n",
       "      <td>৳ 70</td>\n",
       "    </tr>\n",
       "    <tr>\n",
       "      <th>1</th>\n",
       "      <td>Aarong Dairy Full Cream Liquid Milk</td>\n",
       "      <td>1 ltr</td>\n",
       "      <td>৳ 70</td>\n",
       "    </tr>\n",
       "    <tr>\n",
       "      <th>2</th>\n",
       "      <td>Aarong Dairy UHT Chocolate Milk</td>\n",
       "      <td>200 ml</td>\n",
       "      <td>৳ 25</td>\n",
       "    </tr>\n",
       "    <tr>\n",
       "      <th>3</th>\n",
       "      <td>PRAN UHT Milk</td>\n",
       "      <td>1 ltr</td>\n",
       "      <td>৳ 90</td>\n",
       "    </tr>\n",
       "    <tr>\n",
       "      <th>4</th>\n",
       "      <td>Aarong Dairy UHT Full Cream Liquid Milk</td>\n",
       "      <td>500 ml</td>\n",
       "      <td>৳ 45</td>\n",
       "    </tr>\n",
       "  </tbody>\n",
       "</table>\n",
       "</div>"
      ],
      "text/plain": [
       "                                   Product Quantity Price\n",
       "0                    Milk Vita Liquid Milk    1 ltr  ৳ 70\n",
       "1      Aarong Dairy Full Cream Liquid Milk    1 ltr  ৳ 70\n",
       "2          Aarong Dairy UHT Chocolate Milk   200 ml  ৳ 25\n",
       "3                            PRAN UHT Milk    1 ltr  ৳ 90\n",
       "4  Aarong Dairy UHT Full Cream Liquid Milk   500 ml  ৳ 45"
      ]
     },
     "execution_count": 4,
     "metadata": {},
     "output_type": "execute_result"
    }
   ],
   "source": [
    "productlist = {'Product':product, 'Quantity':amount, 'Price':price}\n",
    "df = pd.DataFrame(productlist)\n",
    "df.head()"
   ]
  },
  {
   "cell_type": "code",
   "execution_count": 5,
   "metadata": {},
   "outputs": [],
   "source": [
    "df.to_csv(r'C:\\Users\\Arnob\\Desktop\\DataScience\\chaldal-web-scraping\\chaldal-milk.csv', index=False)"
   ]
  },
  {
   "cell_type": "markdown",
   "metadata": {},
   "source": [
    "# Dataframe for butter"
   ]
  },
  {
   "cell_type": "code",
   "execution_count": 6,
   "metadata": {},
   "outputs": [],
   "source": [
    "baseurl2 = 'https://chaldal.com/butter-sour-cream'\n",
    "r2 = requests.get(baseurl2)\n",
    "soup2 = bs(r2.content, 'lxml')\n",
    "products2 = soup2.find_all('div', class_='product')"
   ]
  },
  {
   "cell_type": "code",
   "execution_count": 7,
   "metadata": {},
   "outputs": [],
   "source": [
    "product2 = []\n",
    "amount2 = []\n",
    "price2 = []\n",
    "\n",
    "for item in products2:\n",
    "    for i in item.find_all('div', class_='imageWrapper'):\n",
    "        for j in i.find_all('div', class_='name'):\n",
    "            product2.append(j.text)\n",
    "            \n",
    "for item in products2:\n",
    "    for i in item.find_all('div', class_='imageWrapper'):\n",
    "        for j in i.find_all('div', class_='subText'):\n",
    "            amount2.append(j.text)\n",
    "            \n",
    "for item in products2:\n",
    "    for i in item.find_all('div', class_='imageWrapper'):\n",
    "        for j in i.find_all('div', class_='price'):\n",
    "            price2.append(j.text)   "
   ]
  },
  {
   "cell_type": "code",
   "execution_count": 8,
   "metadata": {},
   "outputs": [
    {
     "data": {
      "text/html": [
       "<div>\n",
       "<style scoped>\n",
       "    .dataframe tbody tr th:only-of-type {\n",
       "        vertical-align: middle;\n",
       "    }\n",
       "\n",
       "    .dataframe tbody tr th {\n",
       "        vertical-align: top;\n",
       "    }\n",
       "\n",
       "    .dataframe thead th {\n",
       "        text-align: right;\n",
       "    }\n",
       "</style>\n",
       "<table border=\"1\" class=\"dataframe\">\n",
       "  <thead>\n",
       "    <tr style=\"text-align: right;\">\n",
       "      <th></th>\n",
       "      <th>Product</th>\n",
       "      <th>Quantity</th>\n",
       "      <th>Price</th>\n",
       "    </tr>\n",
       "  </thead>\n",
       "  <tbody>\n",
       "    <tr>\n",
       "      <th>0</th>\n",
       "      <td>Aarong Dairy Butter</td>\n",
       "      <td>200 gm</td>\n",
       "      <td>৳ 185</td>\n",
       "    </tr>\n",
       "    <tr>\n",
       "      <th>1</th>\n",
       "      <td>Amul Pasteurised Butter</td>\n",
       "      <td>200 gm</td>\n",
       "      <td>৳ 355</td>\n",
       "    </tr>\n",
       "    <tr>\n",
       "      <th>2</th>\n",
       "      <td>Amul Butter Blister</td>\n",
       "      <td>10 pcs</td>\n",
       "      <td>৳ 200</td>\n",
       "    </tr>\n",
       "    <tr>\n",
       "      <th>3</th>\n",
       "      <td>Amul Choco Buttery Spread</td>\n",
       "      <td>200 gm</td>\n",
       "      <td>৳ 260</td>\n",
       "    </tr>\n",
       "    <tr>\n",
       "      <th>4</th>\n",
       "      <td>Amul Salted Butter</td>\n",
       "      <td>200 gm</td>\n",
       "      <td>৳ 350</td>\n",
       "    </tr>\n",
       "  </tbody>\n",
       "</table>\n",
       "</div>"
      ],
      "text/plain": [
       "                     Product Quantity  Price\n",
       "0        Aarong Dairy Butter   200 gm  ৳ 185\n",
       "1    Amul Pasteurised Butter   200 gm  ৳ 355\n",
       "2        Amul Butter Blister   10 pcs  ৳ 200\n",
       "3  Amul Choco Buttery Spread   200 gm  ৳ 260\n",
       "4         Amul Salted Butter   200 gm  ৳ 350"
      ]
     },
     "execution_count": 8,
     "metadata": {},
     "output_type": "execute_result"
    }
   ],
   "source": [
    "productlist2 = {'Product':product2, 'Quantity':amount2, 'Price':price2}\n",
    "df2 = pd.DataFrame(productlist2)\n",
    "df2.head()"
   ]
  },
  {
   "cell_type": "code",
   "execution_count": 9,
   "metadata": {},
   "outputs": [],
   "source": [
    "df2.to_csv(r'C:\\Users\\Arnob\\Desktop\\DataScience\\chaldal-web-scraping\\chaldal-butter.csv', index=False)"
   ]
  },
  {
   "cell_type": "markdown",
   "metadata": {},
   "source": [
    "# Dataframe for cheese"
   ]
  },
  {
   "cell_type": "code",
   "execution_count": 10,
   "metadata": {},
   "outputs": [],
   "source": [
    "baseurl3 = 'https://chaldal.com/cheese-2'\n",
    "r3 = requests.get(baseurl3)\n",
    "soup3 = bs(r3.content, 'lxml')\n",
    "products3 = soup3.find_all('div', class_='product')"
   ]
  },
  {
   "cell_type": "code",
   "execution_count": 11,
   "metadata": {},
   "outputs": [],
   "source": [
    "product3 = []\n",
    "amount3 = []\n",
    "price3 = []\n",
    "\n",
    "for item in products3:\n",
    "    for i in item.find_all('div', class_='imageWrapper'):\n",
    "        for j in i.find_all('div', class_='name'):\n",
    "            product3.append(j.text)\n",
    "            \n",
    "for item in products3:\n",
    "    for i in item.find_all('div', class_='imageWrapper'):\n",
    "        for j in i.find_all('div', class_='subText'):\n",
    "            amount3.append(j.text)\n",
    "            \n",
    "for item in products3:\n",
    "    for i in item.find_all('div', class_='imageWrapper'):\n",
    "        for j in i.find_all('div', class_='price'):\n",
    "            price3.append(j.text)           "
   ]
  },
  {
   "cell_type": "code",
   "execution_count": 12,
   "metadata": {},
   "outputs": [
    {
     "data": {
      "text/html": [
       "<div>\n",
       "<style scoped>\n",
       "    .dataframe tbody tr th:only-of-type {\n",
       "        vertical-align: middle;\n",
       "    }\n",
       "\n",
       "    .dataframe tbody tr th {\n",
       "        vertical-align: top;\n",
       "    }\n",
       "\n",
       "    .dataframe thead th {\n",
       "        text-align: right;\n",
       "    }\n",
       "</style>\n",
       "<table border=\"1\" class=\"dataframe\">\n",
       "  <thead>\n",
       "    <tr style=\"text-align: right;\">\n",
       "      <th></th>\n",
       "      <th>Product</th>\n",
       "      <th>Quantity</th>\n",
       "      <th>Price</th>\n",
       "    </tr>\n",
       "  </thead>\n",
       "  <tbody>\n",
       "    <tr>\n",
       "      <th>0</th>\n",
       "      <td>Goodlife Mozzarella Cheese</td>\n",
       "      <td>200 gm</td>\n",
       "      <td>৳ 150</td>\n",
       "    </tr>\n",
       "    <tr>\n",
       "      <th>1</th>\n",
       "      <td>Aarong Austogram Cheese</td>\n",
       "      <td>200 gm</td>\n",
       "      <td>৳ 150</td>\n",
       "    </tr>\n",
       "    <tr>\n",
       "      <th>2</th>\n",
       "      <td>PRAN Dhaka Cheese</td>\n",
       "      <td>225 gm</td>\n",
       "      <td>৳ 150</td>\n",
       "    </tr>\n",
       "    <tr>\n",
       "      <th>3</th>\n",
       "      <td>Melbourne Sandwich Sliced Cheese 200 gm (12 sl...</td>\n",
       "      <td></td>\n",
       "      <td>৳ 260</td>\n",
       "    </tr>\n",
       "    <tr>\n",
       "      <th>4</th>\n",
       "      <td>Aarong Dairy Paneer</td>\n",
       "      <td>200 gm</td>\n",
       "      <td>৳ 160</td>\n",
       "    </tr>\n",
       "  </tbody>\n",
       "</table>\n",
       "</div>"
      ],
      "text/plain": [
       "                                             Product Quantity  Price\n",
       "0                         Goodlife Mozzarella Cheese   200 gm  ৳ 150\n",
       "1                            Aarong Austogram Cheese   200 gm  ৳ 150\n",
       "2                                  PRAN Dhaka Cheese   225 gm  ৳ 150\n",
       "3  Melbourne Sandwich Sliced Cheese 200 gm (12 sl...           ৳ 260\n",
       "4                                Aarong Dairy Paneer   200 gm  ৳ 160"
      ]
     },
     "execution_count": 12,
     "metadata": {},
     "output_type": "execute_result"
    }
   ],
   "source": [
    "productlist3 = {'Product':product3, 'Quantity':amount3, 'Price':price3}\n",
    "df3 = pd.DataFrame(productlist3)\n",
    "df3.head()"
   ]
  },
  {
   "cell_type": "code",
   "execution_count": 13,
   "metadata": {},
   "outputs": [],
   "source": [
    "df3.to_csv(r'C:\\Users\\Arnob\\Desktop\\DataScience\\chaldal-web-scraping\\chaldal-cheese.csv', index=False)"
   ]
  },
  {
   "cell_type": "markdown",
   "metadata": {},
   "source": [
    "# Dataframe for milk powder"
   ]
  },
  {
   "cell_type": "code",
   "execution_count": 15,
   "metadata": {},
   "outputs": [],
   "source": [
    "baseurl4 = 'https://chaldal.com/milk-cream'\n",
    "r4 = requests.get(baseurl4)\n",
    "soup4 = bs(r4.content, 'lxml')\n",
    "products4 = soup4.find_all('div', class_='product')"
   ]
  },
  {
   "cell_type": "code",
   "execution_count": 16,
   "metadata": {},
   "outputs": [],
   "source": [
    "product4 = []\n",
    "amount4 = []\n",
    "price4 = []\n",
    "\n",
    "for item in products4:\n",
    "    for i in item.find_all('div', class_='imageWrapper'):\n",
    "        for j in i.find_all('div', class_='name'):\n",
    "            product4.append(j.text)\n",
    "            \n",
    "for item in products4:\n",
    "    for i in item.find_all('div', class_='imageWrapper'):\n",
    "        for j in i.find_all('div', class_='subText'):\n",
    "            amount4.append(j.text)\n",
    "            \n",
    "for item in products4:\n",
    "    for i in item.find_all('div', class_='imageWrapper'):\n",
    "        for j in i.find_all('div', class_='price'):\n",
    "            price4.append(j.text)           "
   ]
  },
  {
   "cell_type": "code",
   "execution_count": 17,
   "metadata": {},
   "outputs": [
    {
     "data": {
      "text/html": [
       "<div>\n",
       "<style scoped>\n",
       "    .dataframe tbody tr th:only-of-type {\n",
       "        vertical-align: middle;\n",
       "    }\n",
       "\n",
       "    .dataframe tbody tr th {\n",
       "        vertical-align: top;\n",
       "    }\n",
       "\n",
       "    .dataframe thead th {\n",
       "        text-align: right;\n",
       "    }\n",
       "</style>\n",
       "<table border=\"1\" class=\"dataframe\">\n",
       "  <thead>\n",
       "    <tr style=\"text-align: right;\">\n",
       "      <th></th>\n",
       "      <th>Product</th>\n",
       "      <th>Quantity</th>\n",
       "      <th>Price</th>\n",
       "    </tr>\n",
       "  </thead>\n",
       "  <tbody>\n",
       "    <tr>\n",
       "      <th>0</th>\n",
       "      <td>Danish Condensed Filled Milk</td>\n",
       "      <td>397 gm</td>\n",
       "      <td>৳ 60</td>\n",
       "    </tr>\n",
       "    <tr>\n",
       "      <th>1</th>\n",
       "      <td>Diploma Full Cream Milk Powder (Free Farmland ...</td>\n",
       "      <td>500 gm</td>\n",
       "      <td>৳ 330</td>\n",
       "    </tr>\n",
       "    <tr>\n",
       "      <th>2</th>\n",
       "      <td>Arla Dano Daily Pusti Milk Powder</td>\n",
       "      <td>1 kg</td>\n",
       "      <td>৳ 450</td>\n",
       "    </tr>\n",
       "    <tr>\n",
       "      <th>3</th>\n",
       "      <td>Arla Dano Daily Pusti Milk Powder</td>\n",
       "      <td>500 gm</td>\n",
       "      <td>৳ 240</td>\n",
       "    </tr>\n",
       "    <tr>\n",
       "      <th>4</th>\n",
       "      <td>Nestlé NIDO 1+ Growing Up Milk Powder BIB (1-3...</td>\n",
       "      <td>350 gm</td>\n",
       "      <td>৳ 360</td>\n",
       "    </tr>\n",
       "  </tbody>\n",
       "</table>\n",
       "</div>"
      ],
      "text/plain": [
       "                                             Product Quantity  Price\n",
       "0                       Danish Condensed Filled Milk   397 gm   ৳ 60\n",
       "1  Diploma Full Cream Milk Powder (Free Farmland ...   500 gm  ৳ 330\n",
       "2                  Arla Dano Daily Pusti Milk Powder     1 kg  ৳ 450\n",
       "3                  Arla Dano Daily Pusti Milk Powder   500 gm  ৳ 240\n",
       "4  Nestlé NIDO 1+ Growing Up Milk Powder BIB (1-3...   350 gm  ৳ 360"
      ]
     },
     "execution_count": 17,
     "metadata": {},
     "output_type": "execute_result"
    }
   ],
   "source": [
    "productlist4 = {'Product':product4, 'Quantity':amount4, 'Price':price4}\n",
    "df4 = pd.DataFrame(productlist4)\n",
    "df4.head()"
   ]
  },
  {
   "cell_type": "code",
   "execution_count": 18,
   "metadata": {},
   "outputs": [],
   "source": [
    "df4.to_csv(r'C:\\Users\\Arnob\\Desktop\\DataScience\\chaldal-web-scraping\\chaldal-milk-powder.csv', index=False)"
   ]
  },
  {
   "cell_type": "markdown",
   "metadata": {},
   "source": [
    "# Dataframe for yogurt"
   ]
  },
  {
   "cell_type": "code",
   "execution_count": 19,
   "metadata": {},
   "outputs": [],
   "source": [
    "baseurl5 = 'https://chaldal.com/yogurt'\n",
    "r5 = requests.get(baseurl5)\n",
    "soup5 = bs(r5.content, 'lxml')\n",
    "products5 = soup5.find_all('div', class_='product')"
   ]
  },
  {
   "cell_type": "code",
   "execution_count": 20,
   "metadata": {},
   "outputs": [],
   "source": [
    "product5 = []\n",
    "amount5 = []\n",
    "price5 = []\n",
    "\n",
    "for item in products5:\n",
    "    for i in item.find_all('div', class_='imageWrapper'):\n",
    "        for j in i.find_all('div', class_='name'):\n",
    "            product5.append(j.text)\n",
    "            \n",
    "for item in products5:\n",
    "    for i in item.find_all('div', class_='imageWrapper'):\n",
    "        for j in i.find_all('div', class_='subText'):\n",
    "            amount5.append(j.text)\n",
    "            \n",
    "for item in products5:\n",
    "    for i in item.find_all('div', class_='imageWrapper'):\n",
    "        for j in i.find_all('div', class_='price'):\n",
    "            price5.append(j.text)  "
   ]
  },
  {
   "cell_type": "code",
   "execution_count": 21,
   "metadata": {},
   "outputs": [
    {
     "data": {
      "text/html": [
       "<div>\n",
       "<style scoped>\n",
       "    .dataframe tbody tr th:only-of-type {\n",
       "        vertical-align: middle;\n",
       "    }\n",
       "\n",
       "    .dataframe tbody tr th {\n",
       "        vertical-align: top;\n",
       "    }\n",
       "\n",
       "    .dataframe thead th {\n",
       "        text-align: right;\n",
       "    }\n",
       "</style>\n",
       "<table border=\"1\" class=\"dataframe\">\n",
       "  <thead>\n",
       "    <tr style=\"text-align: right;\">\n",
       "      <th></th>\n",
       "      <th>Product</th>\n",
       "      <th>Quantity</th>\n",
       "      <th>Price</th>\n",
       "    </tr>\n",
       "  </thead>\n",
       "  <tbody>\n",
       "    <tr>\n",
       "      <th>0</th>\n",
       "      <td>Aarong Dairy Sour Yogurt</td>\n",
       "      <td>500 ml</td>\n",
       "      <td>৳ 80</td>\n",
       "    </tr>\n",
       "    <tr>\n",
       "      <th>1</th>\n",
       "      <td>Danish Ayran Sour Yogurt</td>\n",
       "      <td>500 ml</td>\n",
       "      <td>৳ 80</td>\n",
       "    </tr>\n",
       "    <tr>\n",
       "      <th>2</th>\n",
       "      <td>Aarong Dairy Low Fat Yogurt (Sour)</td>\n",
       "      <td>500 gm</td>\n",
       "      <td>৳ 80</td>\n",
       "    </tr>\n",
       "    <tr>\n",
       "      <th>3</th>\n",
       "      <td>PRAN Sweet Yogurt</td>\n",
       "      <td>100 gm</td>\n",
       "      <td>৳ 20</td>\n",
       "    </tr>\n",
       "    <tr>\n",
       "      <th>4</th>\n",
       "      <td>Milk Vita Sour Curd</td>\n",
       "      <td>500 ml</td>\n",
       "      <td>৳ 80</td>\n",
       "    </tr>\n",
       "  </tbody>\n",
       "</table>\n",
       "</div>"
      ],
      "text/plain": [
       "                              Product Quantity Price\n",
       "0            Aarong Dairy Sour Yogurt   500 ml  ৳ 80\n",
       "1            Danish Ayran Sour Yogurt   500 ml  ৳ 80\n",
       "2  Aarong Dairy Low Fat Yogurt (Sour)   500 gm  ৳ 80\n",
       "3                   PRAN Sweet Yogurt   100 gm  ৳ 20\n",
       "4                 Milk Vita Sour Curd   500 ml  ৳ 80"
      ]
     },
     "execution_count": 21,
     "metadata": {},
     "output_type": "execute_result"
    }
   ],
   "source": [
    "productlist5 = {'Product':product5, 'Quantity':amount5, 'Price':price5}\n",
    "df5 = pd.DataFrame(productlist5)\n",
    "df5.head()"
   ]
  },
  {
   "cell_type": "code",
   "execution_count": 22,
   "metadata": {},
   "outputs": [],
   "source": [
    "df5.to_csv(r'C:\\Users\\Arnob\\Desktop\\DataScience\\chaldal-web-scraping\\chaldal-yogurt.csv', index=False)"
   ]
  },
  {
   "cell_type": "code",
   "execution_count": null,
   "metadata": {},
   "outputs": [],
   "source": []
  }
 ],
 "metadata": {
  "kernelspec": {
   "display_name": "Python 3",
   "language": "python",
   "name": "python3"
  },
  "language_info": {
   "codemirror_mode": {
    "name": "ipython",
    "version": 3
   },
   "file_extension": ".py",
   "mimetype": "text/x-python",
   "name": "python",
   "nbconvert_exporter": "python",
   "pygments_lexer": "ipython3",
   "version": "3.7.6"
  }
 },
 "nbformat": 4,
 "nbformat_minor": 4
}
